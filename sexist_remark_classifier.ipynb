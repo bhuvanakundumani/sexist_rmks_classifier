{
 "cells": [
  {
   "cell_type": "code",
   "execution_count": 0,
   "metadata": {
    "id": "MneenYdwa9AU",
    "colab_type": "code",
    "colab": {}
   },
   "outputs": [],
   "source": [
    "%reload_ext autoreload\n",
    "%autoreload 2\n",
    "%matplotlib inline"
   ]
  },
  {
   "cell_type": "code",
   "execution_count": 0,
   "metadata": {
    "id": "UYZ5dFDXuqqV",
    "colab_type": "code",
    "outputId": "befbf2b9-13d7-427a-d7eb-1db990eb572d",
    "colab": {
     "base_uri": "https://localhost:8080/",
     "height": 802.0
    }
   },
   "outputs": [
    {
     "name": "stdout",
     "output_type": "stream",
     "text": [
      "Requirement already satisfied: fastai==1.0.48 in /usr/local/lib/python3.6/dist-packages (1.0.48)\n",
      "Requirement already satisfied: torchvision in /usr/local/lib/python3.6/dist-packages (from fastai==1.0.48) (0.2.2.post3)\n",
      "Requirement already satisfied: packaging in /usr/local/lib/python3.6/dist-packages (from fastai==1.0.48) (19.0)\n",
      "Requirement already satisfied: matplotlib in /usr/local/lib/python3.6/dist-packages (from fastai==1.0.48) (3.0.3)\n",
      "Requirement already satisfied: pyyaml in /usr/local/lib/python3.6/dist-packages (from fastai==1.0.48) (3.13)\n",
      "Requirement already satisfied: spacy>=2.0.18 in /usr/local/lib/python3.6/dist-packages (from fastai==1.0.48) (2.0.18)\n",
      "Requirement already satisfied: scipy in /usr/local/lib/python3.6/dist-packages (from fastai==1.0.48) (1.2.1)\n",
      "Requirement already satisfied: requests in /usr/local/lib/python3.6/dist-packages (from fastai==1.0.48) (2.18.4)\n",
      "Requirement already satisfied: Pillow in /usr/local/lib/python3.6/dist-packages (from fastai==1.0.48) (4.3.0)\n",
      "Requirement already satisfied: torch>=1.0.0 in /usr/local/lib/python3.6/dist-packages (from fastai==1.0.48) (1.0.1.post2)\n",
      "Requirement already satisfied: bottleneck in /usr/local/lib/python3.6/dist-packages (from fastai==1.0.48) (1.2.1)\n",
      "Requirement already satisfied: numpy>=1.15 in /usr/local/lib/python3.6/dist-packages (from fastai==1.0.48) (1.16.2)\n",
      "Requirement already satisfied: fastprogress>=0.1.19 in /usr/local/lib/python3.6/dist-packages (from fastai==1.0.48) (0.1.21)\n",
      "Requirement already satisfied: nvidia-ml-py3 in /usr/local/lib/python3.6/dist-packages (from fastai==1.0.48) (7.352.0)\n",
      "Requirement already satisfied: dataclasses; python_version < \"3.7\" in /usr/local/lib/python3.6/dist-packages (from fastai==1.0.48) (0.6)\n",
      "Requirement already satisfied: numexpr in /usr/local/lib/python3.6/dist-packages (from fastai==1.0.48) (2.6.9)\n",
      "Requirement already satisfied: beautifulsoup4 in /usr/local/lib/python3.6/dist-packages (from fastai==1.0.48) (4.6.3)\n",
      "Requirement already satisfied: pandas in /usr/local/lib/python3.6/dist-packages (from fastai==1.0.48) (0.23.4)\n",
      "Requirement already satisfied: typing in /usr/local/lib/python3.6/dist-packages (from fastai==1.0.48) (3.6.6)\n",
      "Requirement already satisfied: six in /usr/local/lib/python3.6/dist-packages (from torchvision->fastai==1.0.48) (1.11.0)\n",
      "Requirement already satisfied: pyparsing>=2.0.2 in /usr/local/lib/python3.6/dist-packages (from packaging->fastai==1.0.48) (2.4.0)\n",
      "Requirement already satisfied: python-dateutil>=2.1 in /usr/local/lib/python3.6/dist-packages (from matplotlib->fastai==1.0.48) (2.5.3)\n",
      "Requirement already satisfied: kiwisolver>=1.0.1 in /usr/local/lib/python3.6/dist-packages (from matplotlib->fastai==1.0.48) (1.0.1)\n",
      "Requirement already satisfied: cycler>=0.10 in /usr/local/lib/python3.6/dist-packages (from matplotlib->fastai==1.0.48) (0.10.0)\n",
      "Requirement already satisfied: plac<1.0.0,>=0.9.6 in /usr/local/lib/python3.6/dist-packages (from spacy>=2.0.18->fastai==1.0.48) (0.9.6)\n",
      "Requirement already satisfied: regex==2018.01.10 in /usr/local/lib/python3.6/dist-packages (from spacy>=2.0.18->fastai==1.0.48) (2018.1.10)\n",
      "Requirement already satisfied: preshed<2.1.0,>=2.0.1 in /usr/local/lib/python3.6/dist-packages (from spacy>=2.0.18->fastai==1.0.48) (2.0.1)\n",
      "Requirement already satisfied: dill<0.3,>=0.2 in /usr/local/lib/python3.6/dist-packages (from spacy>=2.0.18->fastai==1.0.48) (0.2.9)\n",
      "Requirement already satisfied: murmurhash<1.1.0,>=0.28.0 in /usr/local/lib/python3.6/dist-packages (from spacy>=2.0.18->fastai==1.0.48) (1.0.2)\n",
      "Requirement already satisfied: cymem<2.1.0,>=2.0.2 in /usr/local/lib/python3.6/dist-packages (from spacy>=2.0.18->fastai==1.0.48) (2.0.2)\n",
      "Requirement already satisfied: thinc<6.13.0,>=6.12.1 in /usr/local/lib/python3.6/dist-packages (from spacy>=2.0.18->fastai==1.0.48) (6.12.1)\n",
      "Requirement already satisfied: ujson>=1.35 in /usr/local/lib/python3.6/dist-packages (from spacy>=2.0.18->fastai==1.0.48) (1.35)\n",
      "Requirement already satisfied: idna<2.7,>=2.5 in /usr/local/lib/python3.6/dist-packages (from requests->fastai==1.0.48) (2.6)\n",
      "Requirement already satisfied: chardet<3.1.0,>=3.0.2 in /usr/local/lib/python3.6/dist-packages (from requests->fastai==1.0.48) (3.0.4)\n",
      "Requirement already satisfied: urllib3<1.23,>=1.21.1 in /usr/local/lib/python3.6/dist-packages (from requests->fastai==1.0.48) (1.22)\n",
      "Requirement already satisfied: certifi>=2017.4.17 in /usr/local/lib/python3.6/dist-packages (from requests->fastai==1.0.48) (2019.3.9)\n",
      "Requirement already satisfied: olefile in /usr/local/lib/python3.6/dist-packages (from Pillow->fastai==1.0.48) (0.46)\n",
      "Requirement already satisfied: pytz>=2011k in /usr/local/lib/python3.6/dist-packages (from pandas->fastai==1.0.48) (2018.9)\n",
      "Requirement already satisfied: setuptools in /usr/local/lib/python3.6/dist-packages (from kiwisolver>=1.0.1->matplotlib->fastai==1.0.48) (40.9.0)\n",
      "Requirement already satisfied: tqdm<5.0.0,>=4.10.0 in /usr/local/lib/python3.6/dist-packages (from thinc<6.13.0,>=6.12.1->spacy>=2.0.18->fastai==1.0.48) (4.28.1)\n",
      "Requirement already satisfied: msgpack-numpy<0.4.4 in /usr/local/lib/python3.6/dist-packages (from thinc<6.13.0,>=6.12.1->spacy>=2.0.18->fastai==1.0.48) (0.4.3.2)\n",
      "Requirement already satisfied: wrapt<1.11.0,>=1.10.0 in /usr/local/lib/python3.6/dist-packages (from thinc<6.13.0,>=6.12.1->spacy>=2.0.18->fastai==1.0.48) (1.10.11)\n",
      "Requirement already satisfied: msgpack<0.6.0,>=0.5.6 in /usr/local/lib/python3.6/dist-packages (from thinc<6.13.0,>=6.12.1->spacy>=2.0.18->fastai==1.0.48) (0.5.6)\n",
      "Requirement already satisfied: cytoolz<0.10,>=0.9.0 in /usr/local/lib/python3.6/dist-packages (from thinc<6.13.0,>=6.12.1->spacy>=2.0.18->fastai==1.0.48) (0.9.0.1)\n",
      "Requirement already satisfied: toolz>=0.8.0 in /usr/local/lib/python3.6/dist-packages (from cytoolz<0.10,>=0.9.0->thinc<6.13.0,>=6.12.1->spacy>=2.0.18->fastai==1.0.48) (0.9.0)\n"
     ]
    }
   ],
   "source": [
    "!pip install fastai==1.0.48\n"
   ]
  },
  {
   "cell_type": "code",
   "execution_count": 0,
   "metadata": {
    "id": "vG5tSRQMuwLM",
    "colab_type": "code",
    "outputId": "bc8d5e0d-9445-4f1d-8baf-f920e3d62c25",
    "colab": {
     "base_uri": "https://localhost:8080/",
     "height": 207.0
    }
   },
   "outputs": [
    {
     "name": "stdout",
     "output_type": "stream",
     "text": [
      "Name: fastai\n",
      "Version: 1.0.48\n",
      "Summary: fastai makes deep learning with PyTorch faster, more accurate, and easier\n",
      "Home-page: https://github.com/fastai/fastai\n",
      "Author: Jeremy Howard\n",
      "Author-email: info@fast.ai\n",
      "License: Apache Software License 2.0\n",
      "Location: /usr/local/lib/python3.6/dist-packages\n",
      "Requires: spacy, packaging, nvidia-ml-py3, torchvision, dataclasses, fastprogress, bottleneck, requests, pyyaml, matplotlib, numexpr, torch, typing, pandas, numpy, Pillow, scipy, beautifulsoup4\n",
      "Required-by: \n"
     ]
    }
   ],
   "source": [
    "!pip show fastai"
   ]
  },
  {
   "cell_type": "code",
   "execution_count": 0,
   "metadata": {
    "id": "DDulLPE_bBJK",
    "colab_type": "code",
    "colab": {}
   },
   "outputs": [],
   "source": [
    "from fastai.text import *\n",
    "from fastai import *"
   ]
  },
  {
   "cell_type": "code",
   "execution_count": 0,
   "metadata": {
    "id": "wBi8XeNibYBJ",
    "colab_type": "code",
    "outputId": "354c46b8-5269-4aed-caf4-948cfad451bf",
    "colab": {
     "base_uri": "https://localhost:8080/",
     "height": 34.0
    }
   },
   "outputs": [
    {
     "data": {
      "text/plain": [
       "True"
      ]
     },
     "execution_count": 78,
     "metadata": {
      "tags": []
     },
     "output_type": "execute_result"
    }
   ],
   "source": [
    "torch.cuda.is_available()\n"
   ]
  },
  {
   "cell_type": "code",
   "execution_count": 0,
   "metadata": {
    "id": "OhxmhubRqqGa",
    "colab_type": "code",
    "outputId": "b7cfe79a-e68f-40ad-9a64-aa06966bf79d",
    "colab": {
     "base_uri": "https://localhost:8080/",
     "height": 34.0
    }
   },
   "outputs": [
    {
     "data": {
      "text/plain": [
       "True"
      ]
     },
     "execution_count": 79,
     "metadata": {
      "tags": []
     },
     "output_type": "execute_result"
    }
   ],
   "source": [
    "torch.backends.cudnn.enabled\n"
   ]
  },
  {
   "cell_type": "code",
   "execution_count": 0,
   "metadata": {
    "id": "c6iv80v9qsej",
    "colab_type": "code",
    "colab": {}
   },
   "outputs": [],
   "source": [
    "from IPython.display import SVG, display\n"
   ]
  },
  {
   "cell_type": "code",
   "execution_count": 0,
   "metadata": {
    "id": "J5bAAMjfrf4K",
    "colab_type": "code",
    "outputId": "0708bdb1-16f9-4f55-c203-624fd2f1f180",
    "colab": {
     "base_uri": "https://localhost:8080/",
     "height": 34.0
    }
   },
   "outputs": [
    {
     "name": "stdout",
     "output_type": "stream",
     "text": [
      "Drive already mounted at /content/drive; to attempt to forcibly remount, call drive.mount(\"/content/drive\", force_remount=True).\n"
     ]
    }
   ],
   "source": [
    "\n",
    "from google.colab import drive\n",
    "\n",
    "drive.mount('/content/drive')"
   ]
  },
  {
   "cell_type": "code",
   "execution_count": 0,
   "metadata": {
    "id": "SwveWalsu3wA",
    "colab_type": "code",
    "outputId": "6d39db07-874c-4fcc-a286-300a8f3fa753",
    "colab": {
     "base_uri": "https://localhost:8080/",
     "height": 34.0
    }
   },
   "outputs": [
    {
     "name": "stdout",
     "output_type": "stream",
     "text": [
      "data_clas.pkl  remarks_dataset.csv  sexist_remarks.xlsx\n"
     ]
    }
   ],
   "source": [
    "!ls \"/content/drive/My Drive/remarks/\""
   ]
  },
  {
   "cell_type": "code",
   "execution_count": 0,
   "metadata": {
    "id": "EM7XzyGFvQhJ",
    "colab_type": "code",
    "colab": {}
   },
   "outputs": [],
   "source": [
    "path = '/content/drive/My Drive/remarks'\n"
   ]
  },
  {
   "cell_type": "code",
   "execution_count": 0,
   "metadata": {
    "id": "S-0SBnITvWtJ",
    "colab_type": "code",
    "outputId": "38af0684-e3b2-44ca-cebc-6aff4335b066",
    "colab": {
     "base_uri": "https://localhost:8080/",
     "height": 34.0
    }
   },
   "outputs": [
    {
     "data": {
      "text/plain": [
       "'/content/drive/My Drive/remarks'"
      ]
     },
     "execution_count": 87,
     "metadata": {
      "tags": []
     },
     "output_type": "execute_result"
    }
   ],
   "source": [
    "path"
   ]
  },
  {
   "cell_type": "code",
   "execution_count": 0,
   "metadata": {
    "id": "1swqSuHgvXNs",
    "colab_type": "code",
    "outputId": "da322d53-8d03-4610-e10b-b285b579cdd2",
    "colab": {
     "base_uri": "https://localhost:8080/",
     "height": 359.0
    }
   },
   "outputs": [
    {
     "data": {
      "text/html": [
       "<div>\n",
       "<style scoped>\n",
       "    .dataframe tbody tr th:only-of-type {\n",
       "        vertical-align: middle;\n",
       "    }\n",
       "\n",
       "    .dataframe tbody tr th {\n",
       "        vertical-align: top;\n",
       "    }\n",
       "\n",
       "    .dataframe thead th {\n",
       "        text-align: right;\n",
       "    }\n",
       "</style>\n",
       "<table border=\"1\" class=\"dataframe\">\n",
       "  <thead>\n",
       "    <tr style=\"text-align: right;\">\n",
       "      <th></th>\n",
       "      <th>Label</th>\n",
       "      <th>Comment</th>\n",
       "      <th>is_valid</th>\n",
       "    </tr>\n",
       "  </thead>\n",
       "  <tbody>\n",
       "    <tr>\n",
       "      <th>0</th>\n",
       "      <td>positive</td>\n",
       "      <td>Let's hope that the key conferences aren't whe...</td>\n",
       "      <td>False</td>\n",
       "    </tr>\n",
       "    <tr>\n",
       "      <th>1</th>\n",
       "      <td>positive</td>\n",
       "      <td>Did you hear the one about the woman who is at...</td>\n",
       "      <td>False</td>\n",
       "    </tr>\n",
       "    <tr>\n",
       "      <th>2</th>\n",
       "      <td>positive</td>\n",
       "      <td>I think she's hot .... She's tiny, she's short...</td>\n",
       "      <td>False</td>\n",
       "    </tr>\n",
       "    <tr>\n",
       "      <th>3</th>\n",
       "      <td>positive</td>\n",
       "      <td>Didn't men give you the kitchen?</td>\n",
       "      <td>False</td>\n",
       "    </tr>\n",
       "    <tr>\n",
       "      <th>4</th>\n",
       "      <td>positive</td>\n",
       "      <td>I'm a huge supporter of women. ... Feminism is...</td>\n",
       "      <td>False</td>\n",
       "    </tr>\n",
       "    <tr>\n",
       "      <th>5</th>\n",
       "      <td>positive</td>\n",
       "      <td>Can you believe that? A female linesman. Women...</td>\n",
       "      <td>False</td>\n",
       "    </tr>\n",
       "    <tr>\n",
       "      <th>6</th>\n",
       "      <td>positive</td>\n",
       "      <td>Men are very competent in their workplace - an...</td>\n",
       "      <td>True</td>\n",
       "    </tr>\n",
       "    <tr>\n",
       "      <th>7</th>\n",
       "      <td>positive</td>\n",
       "      <td>the better looking these women are like Michel...</td>\n",
       "      <td>True</td>\n",
       "    </tr>\n",
       "    <tr>\n",
       "      <th>8</th>\n",
       "      <td>positive</td>\n",
       "      <td>boys will be boys</td>\n",
       "      <td>True</td>\n",
       "    </tr>\n",
       "    <tr>\n",
       "      <th>9</th>\n",
       "      <td>positive</td>\n",
       "      <td>despite being a woman</td>\n",
       "      <td>True</td>\n",
       "    </tr>\n",
       "  </tbody>\n",
       "</table>\n",
       "</div>"
      ],
      "text/plain": [
       "      Label                                            Comment  is_valid\n",
       "0  positive  Let's hope that the key conferences aren't whe...     False\n",
       "1  positive  Did you hear the one about the woman who is at...     False\n",
       "2  positive  I think she's hot .... She's tiny, she's short...     False\n",
       "3  positive                   Didn't men give you the kitchen?     False\n",
       "4  positive  I'm a huge supporter of women. ... Feminism is...     False\n",
       "5  positive  Can you believe that? A female linesman. Women...     False\n",
       "6  positive  Men are very competent in their workplace - an...      True\n",
       "7  positive  the better looking these women are like Michel...      True\n",
       "8  positive                                  boys will be boys      True\n",
       "9  positive                              despite being a woman      True"
      ]
     },
     "execution_count": 93,
     "metadata": {
      "tags": []
     },
     "output_type": "execute_result"
    }
   ],
   "source": [
    "df = pd.read_csv('/content/drive/My Drive/remarks/remarks_dataset.csv')\n",
    "df.head(10)"
   ]
  },
  {
   "cell_type": "code",
   "execution_count": 0,
   "metadata": {
    "id": "0VAM6MMg1hIP",
    "colab_type": "code",
    "outputId": "a74f6a7f-5416-4965-84a2-3668ee1be5b9",
    "colab": {
     "base_uri": "https://localhost:8080/",
     "height": 1969.0
    }
   },
   "outputs": [
    {
     "data": {
      "text/html": [
       "<div>\n",
       "<style scoped>\n",
       "    .dataframe tbody tr th:only-of-type {\n",
       "        vertical-align: middle;\n",
       "    }\n",
       "\n",
       "    .dataframe tbody tr th {\n",
       "        vertical-align: top;\n",
       "    }\n",
       "\n",
       "    .dataframe thead th {\n",
       "        text-align: right;\n",
       "    }\n",
       "</style>\n",
       "<table border=\"1\" class=\"dataframe\">\n",
       "  <thead>\n",
       "    <tr style=\"text-align: right;\">\n",
       "      <th></th>\n",
       "      <th>Label</th>\n",
       "      <th>Comment</th>\n",
       "      <th>is_valid</th>\n",
       "    </tr>\n",
       "  </thead>\n",
       "  <tbody>\n",
       "    <tr>\n",
       "      <th>726</th>\n",
       "      <td>negative</td>\n",
       "      <td>What you doing</td>\n",
       "      <td>False</td>\n",
       "    </tr>\n",
       "    <tr>\n",
       "      <th>727</th>\n",
       "      <td>negative</td>\n",
       "      <td>You having a nice time</td>\n",
       "      <td>False</td>\n",
       "    </tr>\n",
       "    <tr>\n",
       "      <th>728</th>\n",
       "      <td>negative</td>\n",
       "      <td>Slow down</td>\n",
       "      <td>False</td>\n",
       "    </tr>\n",
       "    <tr>\n",
       "      <th>729</th>\n",
       "      <td>negative</td>\n",
       "      <td>Not had it yet</td>\n",
       "      <td>False</td>\n",
       "    </tr>\n",
       "    <tr>\n",
       "      <th>730</th>\n",
       "      <td>negative</td>\n",
       "      <td>Well there was some and this morning</td>\n",
       "      <td>True</td>\n",
       "    </tr>\n",
       "    <tr>\n",
       "      <th>731</th>\n",
       "      <td>negative</td>\n",
       "      <td>I know Ben</td>\n",
       "      <td>True</td>\n",
       "    </tr>\n",
       "    <tr>\n",
       "      <th>732</th>\n",
       "      <td>negative</td>\n",
       "      <td>Since what five o'clock</td>\n",
       "      <td>True</td>\n",
       "    </tr>\n",
       "    <tr>\n",
       "      <th>733</th>\n",
       "      <td>negative</td>\n",
       "      <td>You'll probably get them tomorrow then</td>\n",
       "      <td>True</td>\n",
       "    </tr>\n",
       "    <tr>\n",
       "      <th>734</th>\n",
       "      <td>negative</td>\n",
       "      <td>Have they all gone</td>\n",
       "      <td>False</td>\n",
       "    </tr>\n",
       "    <tr>\n",
       "      <th>735</th>\n",
       "      <td>negative</td>\n",
       "      <td>It was terrible</td>\n",
       "      <td>False</td>\n",
       "    </tr>\n",
       "    <tr>\n",
       "      <th>736</th>\n",
       "      <td>negative</td>\n",
       "      <td>Yeah freezing weren't it</td>\n",
       "      <td>False</td>\n",
       "    </tr>\n",
       "    <tr>\n",
       "      <th>737</th>\n",
       "      <td>negative</td>\n",
       "      <td>It was cold up there</td>\n",
       "      <td>False</td>\n",
       "    </tr>\n",
       "    <tr>\n",
       "      <th>738</th>\n",
       "      <td>negative</td>\n",
       "      <td>Was it</td>\n",
       "      <td>False</td>\n",
       "    </tr>\n",
       "    <tr>\n",
       "      <th>739</th>\n",
       "      <td>negative</td>\n",
       "      <td>Who's here</td>\n",
       "      <td>False</td>\n",
       "    </tr>\n",
       "    <tr>\n",
       "      <th>740</th>\n",
       "      <td>negative</td>\n",
       "      <td>Monday morning</td>\n",
       "      <td>False</td>\n",
       "    </tr>\n",
       "    <tr>\n",
       "      <th>741</th>\n",
       "      <td>negative</td>\n",
       "      <td>Probably didn't know</td>\n",
       "      <td>False</td>\n",
       "    </tr>\n",
       "    <tr>\n",
       "      <th>742</th>\n",
       "      <td>negative</td>\n",
       "      <td>I said well it would do</td>\n",
       "      <td>False</td>\n",
       "    </tr>\n",
       "    <tr>\n",
       "      <th>743</th>\n",
       "      <td>negative</td>\n",
       "      <td>she works Monday and Friday</td>\n",
       "      <td>False</td>\n",
       "    </tr>\n",
       "    <tr>\n",
       "      <th>744</th>\n",
       "      <td>negative</td>\n",
       "      <td>Monday and Thursday</td>\n",
       "      <td>False</td>\n",
       "    </tr>\n",
       "    <tr>\n",
       "      <th>745</th>\n",
       "      <td>negative</td>\n",
       "      <td>Oh did she</td>\n",
       "      <td>True</td>\n",
       "    </tr>\n",
       "    <tr>\n",
       "      <th>746</th>\n",
       "      <td>negative</td>\n",
       "      <td>Yeah probably did it in a few hours</td>\n",
       "      <td>False</td>\n",
       "    </tr>\n",
       "    <tr>\n",
       "      <th>747</th>\n",
       "      <td>negative</td>\n",
       "      <td>Mm does it take much doing</td>\n",
       "      <td>True</td>\n",
       "    </tr>\n",
       "    <tr>\n",
       "      <th>748</th>\n",
       "      <td>negative</td>\n",
       "      <td>Nah it's a doddle</td>\n",
       "      <td>True</td>\n",
       "    </tr>\n",
       "    <tr>\n",
       "      <th>749</th>\n",
       "      <td>negative</td>\n",
       "      <td>Is it</td>\n",
       "      <td>True</td>\n",
       "    </tr>\n",
       "    <tr>\n",
       "      <th>750</th>\n",
       "      <td>negative</td>\n",
       "      <td>Oh have they</td>\n",
       "      <td>False</td>\n",
       "    </tr>\n",
       "    <tr>\n",
       "      <th>751</th>\n",
       "      <td>negative</td>\n",
       "      <td>in here</td>\n",
       "      <td>True</td>\n",
       "    </tr>\n",
       "    <tr>\n",
       "      <th>752</th>\n",
       "      <td>negative</td>\n",
       "      <td>That's not bad</td>\n",
       "      <td>True</td>\n",
       "    </tr>\n",
       "    <tr>\n",
       "      <th>753</th>\n",
       "      <td>negative</td>\n",
       "      <td>I'll keep that though because I don't know if</td>\n",
       "      <td>False</td>\n",
       "    </tr>\n",
       "    <tr>\n",
       "      <th>754</th>\n",
       "      <td>negative</td>\n",
       "      <td>I'll put it in here</td>\n",
       "      <td>True</td>\n",
       "    </tr>\n",
       "    <tr>\n",
       "      <th>755</th>\n",
       "      <td>negative</td>\n",
       "      <td>Look look at it</td>\n",
       "      <td>True</td>\n",
       "    </tr>\n",
       "    <tr>\n",
       "      <th>...</th>\n",
       "      <td>...</td>\n",
       "      <td>...</td>\n",
       "      <td>...</td>\n",
       "    </tr>\n",
       "    <tr>\n",
       "      <th>796</th>\n",
       "      <td>negative</td>\n",
       "      <td>They're always so busy</td>\n",
       "      <td>True</td>\n",
       "    </tr>\n",
       "    <tr>\n",
       "      <th>797</th>\n",
       "      <td>negative</td>\n",
       "      <td>Well I don't know maybe</td>\n",
       "      <td>False</td>\n",
       "    </tr>\n",
       "    <tr>\n",
       "      <th>798</th>\n",
       "      <td>negative</td>\n",
       "      <td>But they are busy</td>\n",
       "      <td>False</td>\n",
       "    </tr>\n",
       "    <tr>\n",
       "      <th>799</th>\n",
       "      <td>negative</td>\n",
       "      <td>I think he's quite settled and</td>\n",
       "      <td>False</td>\n",
       "    </tr>\n",
       "    <tr>\n",
       "      <th>800</th>\n",
       "      <td>negative</td>\n",
       "      <td>Pardon me excuse me</td>\n",
       "      <td>False</td>\n",
       "    </tr>\n",
       "    <tr>\n",
       "      <th>801</th>\n",
       "      <td>negative</td>\n",
       "      <td>quite happy I think</td>\n",
       "      <td>False</td>\n",
       "    </tr>\n",
       "    <tr>\n",
       "      <th>802</th>\n",
       "      <td>negative</td>\n",
       "      <td>Pardon</td>\n",
       "      <td>False</td>\n",
       "    </tr>\n",
       "    <tr>\n",
       "      <th>803</th>\n",
       "      <td>negative</td>\n",
       "      <td>oh no I can't go the next week</td>\n",
       "      <td>False</td>\n",
       "    </tr>\n",
       "    <tr>\n",
       "      <th>804</th>\n",
       "      <td>negative</td>\n",
       "      <td>Why</td>\n",
       "      <td>False</td>\n",
       "    </tr>\n",
       "    <tr>\n",
       "      <th>805</th>\n",
       "      <td>negative</td>\n",
       "      <td>Because I'll still be covering for John</td>\n",
       "      <td>False</td>\n",
       "    </tr>\n",
       "    <tr>\n",
       "      <th>806</th>\n",
       "      <td>negative</td>\n",
       "      <td>I don't think</td>\n",
       "      <td>False</td>\n",
       "    </tr>\n",
       "    <tr>\n",
       "      <th>807</th>\n",
       "      <td>negative</td>\n",
       "      <td>cos that's</td>\n",
       "      <td>False</td>\n",
       "    </tr>\n",
       "    <tr>\n",
       "      <th>808</th>\n",
       "      <td>negative</td>\n",
       "      <td>Oh that'll be nice</td>\n",
       "      <td>False</td>\n",
       "    </tr>\n",
       "    <tr>\n",
       "      <th>809</th>\n",
       "      <td>negative</td>\n",
       "      <td>Don't know when I'll find out</td>\n",
       "      <td>False</td>\n",
       "    </tr>\n",
       "    <tr>\n",
       "      <th>810</th>\n",
       "      <td>negative</td>\n",
       "      <td>I didn't realize it was that</td>\n",
       "      <td>False</td>\n",
       "    </tr>\n",
       "    <tr>\n",
       "      <th>811</th>\n",
       "      <td>negative</td>\n",
       "      <td>So that'll be alright</td>\n",
       "      <td>True</td>\n",
       "    </tr>\n",
       "    <tr>\n",
       "      <th>812</th>\n",
       "      <td>negative</td>\n",
       "      <td>It's probably</td>\n",
       "      <td>False</td>\n",
       "    </tr>\n",
       "    <tr>\n",
       "      <th>813</th>\n",
       "      <td>negative</td>\n",
       "      <td>I'm not sure he'll be there but</td>\n",
       "      <td>False</td>\n",
       "    </tr>\n",
       "    <tr>\n",
       "      <th>814</th>\n",
       "      <td>negative</td>\n",
       "      <td>I'm not sure whether</td>\n",
       "      <td>False</td>\n",
       "    </tr>\n",
       "    <tr>\n",
       "      <th>815</th>\n",
       "      <td>negative</td>\n",
       "      <td>Oh I should imagine</td>\n",
       "      <td>False</td>\n",
       "    </tr>\n",
       "    <tr>\n",
       "      <th>816</th>\n",
       "      <td>negative</td>\n",
       "      <td>suppose it will</td>\n",
       "      <td>False</td>\n",
       "    </tr>\n",
       "    <tr>\n",
       "      <th>817</th>\n",
       "      <td>negative</td>\n",
       "      <td>it will be</td>\n",
       "      <td>False</td>\n",
       "    </tr>\n",
       "    <tr>\n",
       "      <th>818</th>\n",
       "      <td>negative</td>\n",
       "      <td>Want to check it</td>\n",
       "      <td>False</td>\n",
       "    </tr>\n",
       "    <tr>\n",
       "      <th>819</th>\n",
       "      <td>negative</td>\n",
       "      <td>So yeah I'll go I'll go and check</td>\n",
       "      <td>False</td>\n",
       "    </tr>\n",
       "    <tr>\n",
       "      <th>820</th>\n",
       "      <td>negative</td>\n",
       "      <td>I see you</td>\n",
       "      <td>False</td>\n",
       "    </tr>\n",
       "    <tr>\n",
       "      <th>821</th>\n",
       "      <td>negative</td>\n",
       "      <td>What do you want</td>\n",
       "      <td>True</td>\n",
       "    </tr>\n",
       "    <tr>\n",
       "      <th>822</th>\n",
       "      <td>negative</td>\n",
       "      <td>That says</td>\n",
       "      <td>False</td>\n",
       "    </tr>\n",
       "    <tr>\n",
       "      <th>823</th>\n",
       "      <td>negative</td>\n",
       "      <td>That says provisional provisional</td>\n",
       "      <td>False</td>\n",
       "    </tr>\n",
       "    <tr>\n",
       "      <th>824</th>\n",
       "      <td>negative</td>\n",
       "      <td>No it says</td>\n",
       "      <td>False</td>\n",
       "    </tr>\n",
       "    <tr>\n",
       "      <th>825</th>\n",
       "      <td>negative</td>\n",
       "      <td>There they are</td>\n",
       "      <td>False</td>\n",
       "    </tr>\n",
       "  </tbody>\n",
       "</table>\n",
       "<p>100 rows × 3 columns</p>\n",
       "</div>"
      ],
      "text/plain": [
       "        Label                                        Comment  is_valid\n",
       "726  negative                                 What you doing     False\n",
       "727  negative                         You having a nice time     False\n",
       "728  negative                                      Slow down     False\n",
       "729  negative                                 Not had it yet     False\n",
       "730  negative           Well there was some and this morning      True\n",
       "731  negative                                     I know Ben      True\n",
       "732  negative                        Since what five o'clock      True\n",
       "733  negative         You'll probably get them tomorrow then      True\n",
       "734  negative                             Have they all gone     False\n",
       "735  negative                                It was terrible     False\n",
       "736  negative                       Yeah freezing weren't it     False\n",
       "737  negative                           It was cold up there     False\n",
       "738  negative                                         Was it     False\n",
       "739  negative                                     Who's here     False\n",
       "740  negative                                 Monday morning     False\n",
       "741  negative                           Probably didn't know     False\n",
       "742  negative                        I said well it would do     False\n",
       "743  negative                    she works Monday and Friday     False\n",
       "744  negative                            Monday and Thursday     False\n",
       "745  negative                                     Oh did she      True\n",
       "746  negative            Yeah probably did it in a few hours     False\n",
       "747  negative                     Mm does it take much doing      True\n",
       "748  negative                              Nah it's a doddle      True\n",
       "749  negative                                          Is it      True\n",
       "750  negative                                   Oh have they     False\n",
       "751  negative                                        in here      True\n",
       "752  negative                                 That's not bad      True\n",
       "753  negative  I'll keep that though because I don't know if     False\n",
       "754  negative                            I'll put it in here      True\n",
       "755  negative                                Look look at it      True\n",
       "..        ...                                            ...       ...\n",
       "796  negative                         They're always so busy      True\n",
       "797  negative                        Well I don't know maybe     False\n",
       "798  negative                              But they are busy     False\n",
       "799  negative                 I think he's quite settled and     False\n",
       "800  negative                            Pardon me excuse me     False\n",
       "801  negative                            quite happy I think     False\n",
       "802  negative                                         Pardon     False\n",
       "803  negative                 oh no I can't go the next week     False\n",
       "804  negative                                            Why     False\n",
       "805  negative        Because I'll still be covering for John     False\n",
       "806  negative                                  I don't think     False\n",
       "807  negative                                     cos that's     False\n",
       "808  negative                             Oh that'll be nice     False\n",
       "809  negative                  Don't know when I'll find out     False\n",
       "810  negative                   I didn't realize it was that     False\n",
       "811  negative                          So that'll be alright      True\n",
       "812  negative                                  It's probably     False\n",
       "813  negative                I'm not sure he'll be there but     False\n",
       "814  negative                           I'm not sure whether     False\n",
       "815  negative                            Oh I should imagine     False\n",
       "816  negative                                suppose it will     False\n",
       "817  negative                                     it will be     False\n",
       "818  negative                               Want to check it     False\n",
       "819  negative              So yeah I'll go I'll go and check     False\n",
       "820  negative                                      I see you     False\n",
       "821  negative                               What do you want      True\n",
       "822  negative                                      That says     False\n",
       "823  negative              That says provisional provisional     False\n",
       "824  negative                                     No it says     False\n",
       "825  negative                                 There they are     False\n",
       "\n",
       "[100 rows x 3 columns]"
      ]
     },
     "execution_count": 94,
     "metadata": {
      "tags": []
     },
     "output_type": "execute_result"
    }
   ],
   "source": [
    "df.tail(100)"
   ]
  },
  {
   "cell_type": "code",
   "execution_count": 0,
   "metadata": {
    "id": "qfci-aGxvft5",
    "colab_type": "code",
    "outputId": "c3bcaf8f-a3b7-4759-9565-29fc889a30f1",
    "colab": {
     "base_uri": "https://localhost:8080/",
     "height": 34.0
    }
   },
   "outputs": [
    {
     "data": {
      "text/plain": [
       "Index(['Label', 'Comment', 'is_valid'], dtype='object')"
      ]
     },
     "execution_count": 95,
     "metadata": {
      "tags": []
     },
     "output_type": "execute_result"
    }
   ],
   "source": [
    "df.columns\n"
   ]
  },
  {
   "cell_type": "code",
   "execution_count": 0,
   "metadata": {
    "id": "t6VfcoiYxetS",
    "colab_type": "code",
    "outputId": "41099bd0-968d-4395-8c93-6dfe615d58f1",
    "colab": {
     "base_uri": "https://localhost:8080/",
     "height": 54.0
    }
   },
   "outputs": [
    {
     "data": {
      "text/plain": [
       "'Now, anyone can be cast to play a goddess. They can cast someone who you want to pray to when you look at them, they can also cast someone you want to call towards you when you see them!'"
      ]
     },
     "execution_count": 96,
     "metadata": {
      "tags": []
     },
     "output_type": "execute_result"
    }
   ],
   "source": [
    "df['Comment'][11]"
   ]
  },
  {
   "cell_type": "code",
   "execution_count": 0,
   "metadata": {
    "id": "mLY5yi55xnAv",
    "colab_type": "code",
    "outputId": "5db6aa10-0d80-4f9e-ea8b-9336211a2d01",
    "colab": {
     "base_uri": "https://localhost:8080/",
     "height": 1969.0
    }
   },
   "outputs": [
    {
     "data": {
      "text/html": [
       "<div>\n",
       "<style scoped>\n",
       "    .dataframe tbody tr th:only-of-type {\n",
       "        vertical-align: middle;\n",
       "    }\n",
       "\n",
       "    .dataframe tbody tr th {\n",
       "        vertical-align: top;\n",
       "    }\n",
       "\n",
       "    .dataframe thead th {\n",
       "        text-align: right;\n",
       "    }\n",
       "</style>\n",
       "<table border=\"1\" class=\"dataframe\">\n",
       "  <thead>\n",
       "    <tr style=\"text-align: right;\">\n",
       "      <th></th>\n",
       "      <th>Label</th>\n",
       "      <th>Comment</th>\n",
       "      <th>is_valid</th>\n",
       "    </tr>\n",
       "  </thead>\n",
       "  <tbody>\n",
       "    <tr>\n",
       "      <th>6</th>\n",
       "      <td>positive</td>\n",
       "      <td>Men are very competent in their workplace - an...</td>\n",
       "      <td>True</td>\n",
       "    </tr>\n",
       "    <tr>\n",
       "      <th>7</th>\n",
       "      <td>positive</td>\n",
       "      <td>the better looking these women are like Michel...</td>\n",
       "      <td>True</td>\n",
       "    </tr>\n",
       "    <tr>\n",
       "      <th>8</th>\n",
       "      <td>positive</td>\n",
       "      <td>boys will be boys</td>\n",
       "      <td>True</td>\n",
       "    </tr>\n",
       "    <tr>\n",
       "      <th>9</th>\n",
       "      <td>positive</td>\n",
       "      <td>despite being a woman</td>\n",
       "      <td>True</td>\n",
       "    </tr>\n",
       "    <tr>\n",
       "      <th>12</th>\n",
       "      <td>positive</td>\n",
       "      <td>Only women from the affluent classes can get a...</td>\n",
       "      <td>True</td>\n",
       "    </tr>\n",
       "    <tr>\n",
       "      <th>33</th>\n",
       "      <td>positive</td>\n",
       "      <td>You need to smile more</td>\n",
       "      <td>True</td>\n",
       "    </tr>\n",
       "    <tr>\n",
       "      <th>35</th>\n",
       "      <td>positive</td>\n",
       "      <td>Can I speak to one of the guys who knows what ...</td>\n",
       "      <td>True</td>\n",
       "    </tr>\n",
       "    <tr>\n",
       "      <th>51</th>\n",
       "      <td>positive</td>\n",
       "      <td>‘Ah, come on. When blokes talk like that it’s ...</td>\n",
       "      <td>True</td>\n",
       "    </tr>\n",
       "    <tr>\n",
       "      <th>53</th>\n",
       "      <td>positive</td>\n",
       "      <td>‘Oh, god, don’t tell me you’re a feminist.’</td>\n",
       "      <td>True</td>\n",
       "    </tr>\n",
       "    <tr>\n",
       "      <th>55</th>\n",
       "      <td>positive</td>\n",
       "      <td>‘The gender pay gap is a myth.’</td>\n",
       "      <td>True</td>\n",
       "    </tr>\n",
       "    <tr>\n",
       "      <th>57</th>\n",
       "      <td>positive</td>\n",
       "      <td>‘Stop getting emotional.’</td>\n",
       "      <td>True</td>\n",
       "    </tr>\n",
       "    <tr>\n",
       "      <th>58</th>\n",
       "      <td>positive</td>\n",
       "      <td>When someone wolf whistles at you.</td>\n",
       "      <td>True</td>\n",
       "    </tr>\n",
       "    <tr>\n",
       "      <th>62</th>\n",
       "      <td>positive</td>\n",
       "      <td>I just wanted to show your legs because… you’r...</td>\n",
       "      <td>True</td>\n",
       "    </tr>\n",
       "    <tr>\n",
       "      <th>63</th>\n",
       "      <td>positive</td>\n",
       "      <td>Now, were you able to wear… undergarments?</td>\n",
       "      <td>True</td>\n",
       "    </tr>\n",
       "    <tr>\n",
       "      <th>66</th>\n",
       "      <td>positive</td>\n",
       "      <td>What’s your favorite position?</td>\n",
       "      <td>True</td>\n",
       "    </tr>\n",
       "    <tr>\n",
       "      <th>69</th>\n",
       "      <td>positive</td>\n",
       "      <td>How do you balance your career and having a pe...</td>\n",
       "      <td>True</td>\n",
       "    </tr>\n",
       "    <tr>\n",
       "      <th>72</th>\n",
       "      <td>positive</td>\n",
       "      <td>As you were reading the script, did you ever t...</td>\n",
       "      <td>True</td>\n",
       "    </tr>\n",
       "    <tr>\n",
       "      <th>92</th>\n",
       "      <td>positive</td>\n",
       "      <td>Ok, Sweetheart</td>\n",
       "      <td>True</td>\n",
       "    </tr>\n",
       "    <tr>\n",
       "      <th>96</th>\n",
       "      <td>positive</td>\n",
       "      <td>Women cry all the time</td>\n",
       "      <td>True</td>\n",
       "    </tr>\n",
       "    <tr>\n",
       "      <th>98</th>\n",
       "      <td>positive</td>\n",
       "      <td>have long hair</td>\n",
       "      <td>True</td>\n",
       "    </tr>\n",
       "    <tr>\n",
       "      <th>99</th>\n",
       "      <td>positive</td>\n",
       "      <td>wear make up</td>\n",
       "      <td>True</td>\n",
       "    </tr>\n",
       "    <tr>\n",
       "      <th>105</th>\n",
       "      <td>positive</td>\n",
       "      <td>Listen to men</td>\n",
       "      <td>True</td>\n",
       "    </tr>\n",
       "    <tr>\n",
       "      <th>107</th>\n",
       "      <td>positive</td>\n",
       "      <td>She smokes; she’s forward thinking.</td>\n",
       "      <td>True</td>\n",
       "    </tr>\n",
       "    <tr>\n",
       "      <th>108</th>\n",
       "      <td>positive</td>\n",
       "      <td>She’s PMSing. She’s hormonal</td>\n",
       "      <td>True</td>\n",
       "    </tr>\n",
       "    <tr>\n",
       "      <th>129</th>\n",
       "      <td>positive</td>\n",
       "      <td>I cum every chance I get sweet heart.</td>\n",
       "      <td>True</td>\n",
       "    </tr>\n",
       "    <tr>\n",
       "      <th>130</th>\n",
       "      <td>positive</td>\n",
       "      <td>I’ve always suspected that girl from accounts ...</td>\n",
       "      <td>True</td>\n",
       "    </tr>\n",
       "    <tr>\n",
       "      <th>132</th>\n",
       "      <td>positive</td>\n",
       "      <td>Ididn’t need to worry about trying to find pai...</td>\n",
       "      <td>True</td>\n",
       "    </tr>\n",
       "    <tr>\n",
       "      <th>134</th>\n",
       "      <td>positive</td>\n",
       "      <td>I got told good mothers don’t work as journali...</td>\n",
       "      <td>True</td>\n",
       "    </tr>\n",
       "    <tr>\n",
       "      <th>136</th>\n",
       "      <td>positive</td>\n",
       "      <td>You met your husband at law school? Ah, that o...</td>\n",
       "      <td>True</td>\n",
       "    </tr>\n",
       "    <tr>\n",
       "      <th>139</th>\n",
       "      <td>positive</td>\n",
       "      <td>Why would she want a permanent job? She’s preg...</td>\n",
       "      <td>True</td>\n",
       "    </tr>\n",
       "    <tr>\n",
       "      <th>...</th>\n",
       "      <td>...</td>\n",
       "      <td>...</td>\n",
       "      <td>...</td>\n",
       "    </tr>\n",
       "    <tr>\n",
       "      <th>702</th>\n",
       "      <td>negative</td>\n",
       "      <td>Have we seen this</td>\n",
       "      <td>True</td>\n",
       "    </tr>\n",
       "    <tr>\n",
       "      <th>703</th>\n",
       "      <td>negative</td>\n",
       "      <td>No I'll ring her</td>\n",
       "      <td>True</td>\n",
       "    </tr>\n",
       "    <tr>\n",
       "      <th>704</th>\n",
       "      <td>negative</td>\n",
       "      <td>Not very nice thing to say</td>\n",
       "      <td>True</td>\n",
       "    </tr>\n",
       "    <tr>\n",
       "      <th>705</th>\n",
       "      <td>negative</td>\n",
       "      <td>No I know that</td>\n",
       "      <td>True</td>\n",
       "    </tr>\n",
       "    <tr>\n",
       "      <th>706</th>\n",
       "      <td>negative</td>\n",
       "      <td>You're looking awful</td>\n",
       "      <td>True</td>\n",
       "    </tr>\n",
       "    <tr>\n",
       "      <th>716</th>\n",
       "      <td>negative</td>\n",
       "      <td>Half three</td>\n",
       "      <td>True</td>\n",
       "    </tr>\n",
       "    <tr>\n",
       "      <th>717</th>\n",
       "      <td>negative</td>\n",
       "      <td>Three</td>\n",
       "      <td>True</td>\n",
       "    </tr>\n",
       "    <tr>\n",
       "      <th>730</th>\n",
       "      <td>negative</td>\n",
       "      <td>Well there was some and this morning</td>\n",
       "      <td>True</td>\n",
       "    </tr>\n",
       "    <tr>\n",
       "      <th>731</th>\n",
       "      <td>negative</td>\n",
       "      <td>I know Ben</td>\n",
       "      <td>True</td>\n",
       "    </tr>\n",
       "    <tr>\n",
       "      <th>732</th>\n",
       "      <td>negative</td>\n",
       "      <td>Since what five o'clock</td>\n",
       "      <td>True</td>\n",
       "    </tr>\n",
       "    <tr>\n",
       "      <th>733</th>\n",
       "      <td>negative</td>\n",
       "      <td>You'll probably get them tomorrow then</td>\n",
       "      <td>True</td>\n",
       "    </tr>\n",
       "    <tr>\n",
       "      <th>745</th>\n",
       "      <td>negative</td>\n",
       "      <td>Oh did she</td>\n",
       "      <td>True</td>\n",
       "    </tr>\n",
       "    <tr>\n",
       "      <th>747</th>\n",
       "      <td>negative</td>\n",
       "      <td>Mm does it take much doing</td>\n",
       "      <td>True</td>\n",
       "    </tr>\n",
       "    <tr>\n",
       "      <th>748</th>\n",
       "      <td>negative</td>\n",
       "      <td>Nah it's a doddle</td>\n",
       "      <td>True</td>\n",
       "    </tr>\n",
       "    <tr>\n",
       "      <th>749</th>\n",
       "      <td>negative</td>\n",
       "      <td>Is it</td>\n",
       "      <td>True</td>\n",
       "    </tr>\n",
       "    <tr>\n",
       "      <th>751</th>\n",
       "      <td>negative</td>\n",
       "      <td>in here</td>\n",
       "      <td>True</td>\n",
       "    </tr>\n",
       "    <tr>\n",
       "      <th>752</th>\n",
       "      <td>negative</td>\n",
       "      <td>That's not bad</td>\n",
       "      <td>True</td>\n",
       "    </tr>\n",
       "    <tr>\n",
       "      <th>754</th>\n",
       "      <td>negative</td>\n",
       "      <td>I'll put it in here</td>\n",
       "      <td>True</td>\n",
       "    </tr>\n",
       "    <tr>\n",
       "      <th>755</th>\n",
       "      <td>negative</td>\n",
       "      <td>Look look at it</td>\n",
       "      <td>True</td>\n",
       "    </tr>\n",
       "    <tr>\n",
       "      <th>756</th>\n",
       "      <td>negative</td>\n",
       "      <td>That's how you do it normally</td>\n",
       "      <td>True</td>\n",
       "    </tr>\n",
       "    <tr>\n",
       "      <th>789</th>\n",
       "      <td>negative</td>\n",
       "      <td>I'm working at the weekend</td>\n",
       "      <td>True</td>\n",
       "    </tr>\n",
       "    <tr>\n",
       "      <th>790</th>\n",
       "      <td>negative</td>\n",
       "      <td>Sorry I'm still not clear</td>\n",
       "      <td>True</td>\n",
       "    </tr>\n",
       "    <tr>\n",
       "      <th>791</th>\n",
       "      <td>negative</td>\n",
       "      <td>It's the same</td>\n",
       "      <td>True</td>\n",
       "    </tr>\n",
       "    <tr>\n",
       "      <th>792</th>\n",
       "      <td>negative</td>\n",
       "      <td>Is that the same one</td>\n",
       "      <td>True</td>\n",
       "    </tr>\n",
       "    <tr>\n",
       "      <th>793</th>\n",
       "      <td>negative</td>\n",
       "      <td>yes that's right</td>\n",
       "      <td>True</td>\n",
       "    </tr>\n",
       "    <tr>\n",
       "      <th>794</th>\n",
       "      <td>negative</td>\n",
       "      <td>Don't do that to it</td>\n",
       "      <td>True</td>\n",
       "    </tr>\n",
       "    <tr>\n",
       "      <th>795</th>\n",
       "      <td>negative</td>\n",
       "      <td>Okay okay</td>\n",
       "      <td>True</td>\n",
       "    </tr>\n",
       "    <tr>\n",
       "      <th>796</th>\n",
       "      <td>negative</td>\n",
       "      <td>They're always so busy</td>\n",
       "      <td>True</td>\n",
       "    </tr>\n",
       "    <tr>\n",
       "      <th>811</th>\n",
       "      <td>negative</td>\n",
       "      <td>So that'll be alright</td>\n",
       "      <td>True</td>\n",
       "    </tr>\n",
       "    <tr>\n",
       "      <th>821</th>\n",
       "      <td>negative</td>\n",
       "      <td>What do you want</td>\n",
       "      <td>True</td>\n",
       "    </tr>\n",
       "  </tbody>\n",
       "</table>\n",
       "<p>161 rows × 3 columns</p>\n",
       "</div>"
      ],
      "text/plain": [
       "        Label                                            Comment  is_valid\n",
       "6    positive  Men are very competent in their workplace - an...      True\n",
       "7    positive  the better looking these women are like Michel...      True\n",
       "8    positive                                  boys will be boys      True\n",
       "9    positive                              despite being a woman      True\n",
       "12   positive  Only women from the affluent classes can get a...      True\n",
       "33   positive                             You need to smile more      True\n",
       "35   positive  Can I speak to one of the guys who knows what ...      True\n",
       "51   positive  ‘Ah, come on. When blokes talk like that it’s ...      True\n",
       "53   positive        ‘Oh, god, don’t tell me you’re a feminist.’      True\n",
       "55   positive                    ‘The gender pay gap is a myth.’      True\n",
       "57   positive                          ‘Stop getting emotional.’      True\n",
       "58   positive                 When someone wolf whistles at you.      True\n",
       "62   positive  I just wanted to show your legs because… you’r...      True\n",
       "63   positive         Now, were you able to wear… undergarments?      True\n",
       "66   positive                     What’s your favorite position?      True\n",
       "69   positive  How do you balance your career and having a pe...      True\n",
       "72   positive  As you were reading the script, did you ever t...      True\n",
       "92   positive                                     Ok, Sweetheart      True\n",
       "96   positive                             Women cry all the time      True\n",
       "98   positive                                     have long hair      True\n",
       "99   positive                                       wear make up      True\n",
       "105  positive                                      Listen to men      True\n",
       "107  positive                She smokes; she’s forward thinking.      True\n",
       "108  positive                       She’s PMSing. She’s hormonal      True\n",
       "129  positive              I cum every chance I get sweet heart.      True\n",
       "130  positive  I’ve always suspected that girl from accounts ...      True\n",
       "132  positive  Ididn’t need to worry about trying to find pai...      True\n",
       "134  positive  I got told good mothers don’t work as journali...      True\n",
       "136  positive  You met your husband at law school? Ah, that o...      True\n",
       "139  positive  Why would she want a permanent job? She’s preg...      True\n",
       "..        ...                                                ...       ...\n",
       "702  negative                                  Have we seen this      True\n",
       "703  negative                                   No I'll ring her      True\n",
       "704  negative                         Not very nice thing to say      True\n",
       "705  negative                                     No I know that      True\n",
       "706  negative                               You're looking awful      True\n",
       "716  negative                                         Half three      True\n",
       "717  negative                                              Three      True\n",
       "730  negative               Well there was some and this morning      True\n",
       "731  negative                                         I know Ben      True\n",
       "732  negative                            Since what five o'clock      True\n",
       "733  negative             You'll probably get them tomorrow then      True\n",
       "745  negative                                         Oh did she      True\n",
       "747  negative                         Mm does it take much doing      True\n",
       "748  negative                                  Nah it's a doddle      True\n",
       "749  negative                                              Is it      True\n",
       "751  negative                                            in here      True\n",
       "752  negative                                     That's not bad      True\n",
       "754  negative                                I'll put it in here      True\n",
       "755  negative                                    Look look at it      True\n",
       "756  negative                      That's how you do it normally      True\n",
       "789  negative                         I'm working at the weekend      True\n",
       "790  negative                          Sorry I'm still not clear      True\n",
       "791  negative                                      It's the same      True\n",
       "792  negative                               Is that the same one      True\n",
       "793  negative                                   yes that's right      True\n",
       "794  negative                                Don't do that to it      True\n",
       "795  negative                                          Okay okay      True\n",
       "796  negative                             They're always so busy      True\n",
       "811  negative                              So that'll be alright      True\n",
       "821  negative                                   What do you want      True\n",
       "\n",
       "[161 rows x 3 columns]"
      ]
     },
     "execution_count": 97,
     "metadata": {
      "tags": []
     },
     "output_type": "execute_result"
    }
   ],
   "source": [
    "df[df['is_valid'] == True]\n"
   ]
  },
  {
   "cell_type": "code",
   "execution_count": 0,
   "metadata": {
    "id": "Er6WWFq_0LPp",
    "colab_type": "code",
    "outputId": "c9bd709e-f752-4ad0-999a-51cdec978a06",
    "colab": {
     "base_uri": "https://localhost:8080/",
     "height": 34.0
    }
   },
   "outputs": [
    {
     "data": {
      "text/plain": [
       "array(['positive', 'negative'], dtype=object)"
      ]
     },
     "execution_count": 98,
     "metadata": {
      "tags": []
     },
     "output_type": "execute_result"
    }
   ],
   "source": [
    "df['Label'].unique()\n"
   ]
  },
  {
   "cell_type": "code",
   "execution_count": 0,
   "metadata": {
    "id": "IDuViJxW0QjI",
    "colab_type": "code",
    "outputId": "803b425d-119b-4670-8d06-0971f8610f1a",
    "colab": {
     "base_uri": "https://localhost:8080/",
     "height": 34.0
    }
   },
   "outputs": [
    {
     "data": {
      "text/plain": [
       "array([False,  True])"
      ]
     },
     "execution_count": 99,
     "metadata": {
      "tags": []
     },
     "output_type": "execute_result"
    }
   ],
   "source": [
    "df['is_valid'].unique()\n"
   ]
  },
  {
   "cell_type": "code",
   "execution_count": 0,
   "metadata": {
    "id": "FYn8pK-I0Wbm",
    "colab_type": "code",
    "outputId": "dc1b1d23-1956-4f11-808a-e9d2b79ae77f",
    "colab": {
     "base_uri": "https://localhost:8080/",
     "height": 85.0
    }
   },
   "outputs": [
    {
     "data": {
      "text/plain": [
       "Label       0\n",
       "Comment     0\n",
       "is_valid    0\n",
       "dtype: int64"
      ]
     },
     "execution_count": 100,
     "metadata": {
      "tags": []
     },
     "output_type": "execute_result"
    }
   ],
   "source": [
    "df.isna().sum()\n"
   ]
  },
  {
   "cell_type": "code",
   "execution_count": 0,
   "metadata": {
    "id": "fH54AqKklYFq",
    "colab_type": "code",
    "colab": {}
   },
   "outputs": [],
   "source": [
    ""
   ]
  },
  {
   "cell_type": "code",
   "execution_count": 0,
   "metadata": {
    "id": "BexyNRJNWJUm",
    "colab_type": "code",
    "colab": {}
   },
   "outputs": [],
   "source": [
    "data_lm = (TextList.from_csv(path, 'remarks_dataset.csv', cols='Comment')\n",
    "                   .split_by_rand_pct()\n",
    "                   .label_for_lm()\n",
    "                   .databunch())\n",
    "data_lm.save()\n"
   ]
  },
  {
   "cell_type": "code",
   "execution_count": 0,
   "metadata": {
    "id": "HXPbyIqB0ukZ",
    "colab_type": "code",
    "outputId": "f1ae0783-d48a-456d-af84-354d26635a7f",
    "colab": {
     "base_uri": "https://localhost:8080/",
     "height": 289.0
    }
   },
   "outputs": [
    {
     "data": {
      "text/html": [
       "<table border=\"1\" class=\"dataframe\">\n",
       "  <thead>\n",
       "    <tr style=\"text-align: right;\">\n",
       "      <th>idx</th>\n",
       "      <th>text</th>\n",
       "    </tr>\n",
       "  </thead>\n",
       "  <tbody>\n",
       "    <tr>\n",
       "      <td>0</td>\n",
       "      <td>xxunk to xxunk ? xxmaj when she xxunk xxunk xxunk and xxunk to speak , her xxunk xxunk over to hear her xxunk xxunk and to xxunk xxunk , ' xxmaj where is that xxunk xxunk ? xxbos i think she 's hot xxrep 4 . xxmaj she 's xxunk , she 's short . xxmaj she 's got a xxunk little body on her . xxmaj xxunk - xxunk</td>\n",
       "    </tr>\n",
       "    <tr>\n",
       "      <td>1</td>\n",
       "      <td>xxmaj did n't men give you the xxunk ? xxbos i 'm a xxunk xxunk of women . ... xxmaj feminism is what i xxunk . xxmaj feminism has xxunk women xxunk . i love women . i do n't know how this all got xxunk . i love the women 's xxunk , xxunk when xxunk behind it . xxbos xxmaj can you xxunk that ? a female xxunk</td>\n",
       "    </tr>\n",
       "    <tr>\n",
       "      <td>2</td>\n",
       "      <td>xxunk and that kind of thing . xxbos boys will be boys xxbos xxmaj they do n't know what kind of dress they should wear for xxunk xxunk . xxmaj do they think that only if they wear xxunk xxunk will xxunk and xxunk give them xxunk ? i do n't mind even if my xxunk xxunk them . xxbos xxmaj now , xxunk can be cast to xxunk a</td>\n",
       "    </tr>\n",
       "    <tr>\n",
       "      <td>3</td>\n",
       "      <td>xxunk can get xxunk in life , but xxunk you xxunk women will never get a chance because you are not that xxunk . xxbos xxmaj as time xxunk , the xxunk of the xxunk xxunk , just like a wife xxunk old and xxunk her xxunk . xxbos xxmaj xxunk xxunk xxunk , this is a xxunk matter . xxmaj this is not a xxunk xxunk . xxbos i</td>\n",
       "    </tr>\n",
       "    <tr>\n",
       "      <td>4</td>\n",
       "      <td>get xxunk . xxmaj that was a xxunk - xxunk woman . xxmaj look at this woman . xxmaj everything was xxunk from her , xxunk which she xxunk all her xxunk to get xxunk xxbos xxmaj you are xxunk a xxunk of woman . xxmaj you do not want kids it 's your job to xxunk at home , have kids and xxunk . xxbos xxmaj you should get</td>\n",
       "    </tr>\n",
       "  </tbody>\n",
       "</table>"
      ],
      "text/plain": [
       "<IPython.core.display.HTML object>"
      ]
     },
     "metadata": {
      "tags": []
     },
     "output_type": "execute_result"
    }
   ],
   "source": [
    "data_lm.show_batch()\n"
   ]
  },
  {
   "cell_type": "code",
   "execution_count": 0,
   "metadata": {
    "id": "kjJs1-_WKlzh",
    "colab_type": "code",
    "colab": {}
   },
   "outputs": [],
   "source": [
    "learn = language_model_learner(data_lm, AWD_LSTM)\n"
   ]
  },
  {
   "cell_type": "code",
   "execution_count": 0,
   "metadata": {
    "id": "VTydFy_FXvjG",
    "colab_type": "code",
    "outputId": "a8b02afd-1e18-4409-820c-f4f08a70394f",
    "colab": {
     "base_uri": "https://localhost:8080/",
     "height": 34.0
    }
   },
   "outputs": [
    {
     "data": {
      "text/html": [
       ""
      ],
      "text/plain": [
       "<IPython.core.display.HTML object>"
      ]
     },
     "metadata": {
      "tags": []
     },
     "output_type": "execute_result"
    },
    {
     "name": "stdout",
     "output_type": "stream",
     "text": [
      "LR Finder is complete, type {learner_name}.recorder.plot() to see the graph.\n"
     ]
    }
   ],
   "source": [
    "learn.lr_find()"
   ]
  },
  {
   "cell_type": "code",
   "execution_count": 0,
   "metadata": {
    "id": "xFDSQFBUX7VG",
    "colab_type": "code",
    "outputId": "7cd168d8-590f-4ba9-fd4e-dd773e273f5c",
    "colab": {
     "base_uri": "https://localhost:8080/",
     "height": 283.0
    }
   },
   "outputs": [
    {
     "data": {
      "image/png": "[encoded data removed]",
      "text/plain": [
       "<Figure size 432x288 with 1 Axes>"
      ]
     },
     "metadata": {
      "tags": []
     },
     "output_type": "display_data"
    }
   ],
   "source": [
    "learn.recorder.plot(skip_end=15)\n"
   ]
  },
  {
   "cell_type": "code",
   "execution_count": 0,
   "metadata": {
    "id": "RgZ4emrZYCea",
    "colab_type": "code",
    "outputId": "b611f187-ffed-4ccf-cb73-38d61c66e13f",
    "colab": {
     "base_uri": "https://localhost:8080/",
     "height": 80.0
    }
   },
   "outputs": [
    {
     "data": {
      "text/html": [
       "<table border=\"1\" class=\"dataframe\">\n",
       "  <thead>\n",
       "    <tr style=\"text-align: left;\">\n",
       "      <th>epoch</th>\n",
       "      <th>train_loss</th>\n",
       "      <th>valid_loss</th>\n",
       "      <th>accuracy</th>\n",
       "      <th>time</th>\n",
       "    </tr>\n",
       "  </thead>\n",
       "  <tbody>\n",
       "    <tr>\n",
       "      <td>0</td>\n",
       "      <td>6.042767</td>\n",
       "      <td>4.747664</td>\n",
       "      <td>0.262054</td>\n",
       "      <td>00:00</td>\n",
       "    </tr>\n",
       "  </tbody>\n",
       "</table>"
      ],
      "text/plain": [
       "<IPython.core.display.HTML object>"
      ]
     },
     "metadata": {
      "tags": []
     },
     "output_type": "execute_result"
    }
   ],
   "source": [
    "learn.fit_one_cycle(1, 1e-1, moms=(0.8,0.7))\n"
   ]
  },
  {
   "cell_type": "code",
   "execution_count": 0,
   "metadata": {
    "id": "U4r8PsqZW8RY",
    "colab_type": "code",
    "colab": {}
   },
   "outputs": [],
   "source": [
    "learn.save('mini_train_lm')\n",
    "learn.save_encoder('mini_train_encoder')"
   ]
  },
  {
   "cell_type": "code",
   "execution_count": 0,
   "metadata": {
    "id": "P7T6nO68X5Wr",
    "colab_type": "code",
    "outputId": "4545982d-4439-4748-cf10-1e75eff664c5",
    "colab": {
     "base_uri": "https://localhost:8080/",
     "height": 289.0
    }
   },
   "outputs": [
    {
     "data": {
      "text/html": [
       "<table border=\"1\" class=\"dataframe\">\n",
       "  <thead>\n",
       "    <tr style=\"text-align: right;\">\n",
       "      <th>text</th>\n",
       "      <th>target</th>\n",
       "      <th>pred</th>\n",
       "    </tr>\n",
       "  </thead>\n",
       "  <tbody>\n",
       "    <tr>\n",
       "      <td>xxbos xxmaj you xxunk he 's at work xxbos xxmaj is the manager in xxunk ? i would love to</td>\n",
       "      <td>to him xxbos xxmaj xxunk your are not doing xxunk why do n't you get into the xxunk where you</td>\n",
       "      <td>about you about xxmaj xxunk xxunk xxunk xxunk xxunk your xxunk you you do do you xxunk xxunk ? you</td>\n",
       "    </tr>\n",
       "    <tr>\n",
       "      <td>xxunk your are not doing xxunk why do n't you get into the xxunk where you xxunk xxbos xxmaj is</td>\n",
       "      <td>your real hair ? xxbos xxmaj there they are xxbos xxmaj xxunk girl xxbos xxmaj that xxunk xxbos because i</td>\n",
       "      <td>xxunk xxunk xxunk ? xxmaj xxmaj xxunk 's 're xxunk xxbos xxunk xxunk xxunk xxmaj xxunk 's xxunk xxmaj xxmaj</td>\n",
       "    </tr>\n",
       "    <tr>\n",
       "      <td>xxmaj there they are xxbos xxmaj xxunk girl xxbos xxmaj that xxunk xxbos because i 'm i 'm so busy</td>\n",
       "      <td>xxmaj no that 's xxunk xxmaj xxunk xxunk a i know xxunk and they want to xxunk xxunk a xxunk</td>\n",
       "      <td>xxmaj xxunk xxunk xxunk what xxunk xxunk xxunk xxunk xxunk xxunk i xxunk xxunk 're you xxunk xxunk xxunk xxunk</td>\n",
       "    </tr>\n",
       "    <tr>\n",
       "      <td>xxmaj xxunk xxunk a i know xxunk and they want to xxunk xxunk a xxunk to do a xxunk how</td>\n",
       "      <td>xxunk have we had xxunk xxbos xxmaj three xxbos but that did n't happen very xxunk to us because it</td>\n",
       "      <td>xxunk you xxunk xxunk xxunk xxunk xxmaj xxunk xxunk xxmaj xxunk xxunk not do because well . xxunk because it</td>\n",
       "    </tr>\n",
       "    <tr>\n",
       "      <td>xxunk xxbos xxmaj three xxbos but that did n't happen very xxunk to us because it was just being xxunk</td>\n",
       "      <td>xxmaj no i do n't think i i 'm too old now xxbos xxmaj xxunk . xxbos xxmaj no i</td>\n",
       "      <td>xxmaj xxunk xxunk think think think i think think xxunk xxunk xxunk i xxmaj xxunk xxunk xxmaj xxbos xxunk xxunk</td>\n",
       "    </tr>\n",
       "  </tbody>\n",
       "</table>"
      ],
      "text/plain": [
       "<IPython.core.display.HTML object>"
      ]
     },
     "metadata": {
      "tags": []
     },
     "output_type": "execute_result"
    }
   ],
   "source": [
    "learn.show_results()"
   ]
  },
  {
   "cell_type": "code",
   "execution_count": 0,
   "metadata": {
    "id": "dwgby8W2ZD14",
    "colab_type": "code",
    "outputId": "c6d92d15-7b07-43bc-b302-71e766df93ba",
    "colab": {
     "base_uri": "https://localhost:8080/",
     "height": 2417.0
    }
   },
   "outputs": [
    {
     "data": {
      "text/plain": [
       "LanguageLearner(data=TextLMDataBunch;\n",
       "\n",
       "Train: LabelList (661 items)\n",
       "x: LMTextList\n",
       "xxbos xxmaj let 's hope that the xxunk xxunk are n't when she 's xxunk or something , or just xxunk she 's going to xxunk . xxmaj that would really be bad . xxmaj xxunk knows what we would get then .,xxbos xxmaj did you hear the one about the woman who is xxunk on the xxunk by a xxunk , xxunk xxunk , xxunk xxunk , and xxunk to xxunk ? xxmaj when she xxunk xxunk xxunk and xxunk to speak , her xxunk xxunk over to hear her xxunk xxunk and to xxunk xxunk , ' xxmaj where is that xxunk xxunk ?,xxbos i think she 's hot xxrep 4 . xxmaj she 's xxunk , she 's short . xxmaj she 's got a xxunk little body on her . xxmaj xxunk - xxunk , i give her about a xxunk . xxmaj body - xxunk , i give her about an xxunk - and - a - xxunk . xxmaj xxunk , little xxunk . i xxunk xxmaj xxunk xxmaj xxunk . \",xxbos xxmaj did n't men give you the xxunk ?,xxbos i 'm a xxunk xxunk of women . ... xxmaj feminism is what i xxunk . xxmaj feminism has xxunk women xxunk . i love women . i do n't know how this all got xxunk . i love the women 's xxunk , xxunk when xxunk behind it .\n",
       "y: LMLabelList\n",
       ",,,,\n",
       "Path: /content/drive/My Drive/remarks;\n",
       "\n",
       "Valid: LabelList (165 items)\n",
       "x: LMTextList\n",
       "xxbos xxmaj you xxunk he 's at work,xxbos xxmaj is the manager in xxunk ? i would love to talk to him,xxbos xxmaj xxunk your are not doing xxunk why do n't you get into the xxunk where you xxunk,xxbos xxmaj is that your real hair ?,xxbos xxmaj there they are\n",
       "y: LMLabelList\n",
       ",,,,\n",
       "Path: /content/drive/My Drive/remarks;\n",
       "\n",
       "Test: None, model=SequentialRNN(\n",
       "  (0): AWD_LSTM(\n",
       "    (encoder): Embedding(323, 400, padding_idx=1)\n",
       "    (encoder_dp): EmbeddingDropout(\n",
       "      (emb): Embedding(323, 400, padding_idx=1)\n",
       "    )\n",
       "    (rnns): ModuleList(\n",
       "      (0): WeightDropout(\n",
       "        (module): LSTM(400, 1150, batch_first=True)\n",
       "      )\n",
       "      (1): WeightDropout(\n",
       "        (module): LSTM(1150, 1150, batch_first=True)\n",
       "      )\n",
       "      (2): WeightDropout(\n",
       "        (module): LSTM(1150, 400, batch_first=True)\n",
       "      )\n",
       "    )\n",
       "    (input_dp): RNNDropout()\n",
       "    (hidden_dps): ModuleList(\n",
       "      (0): RNNDropout()\n",
       "      (1): RNNDropout()\n",
       "      (2): RNNDropout()\n",
       "    )\n",
       "  )\n",
       "  (1): LinearDecoder(\n",
       "    (decoder): Linear(in_features=400, out_features=323, bias=True)\n",
       "    (output_dp): RNNDropout()\n",
       "  )\n",
       "), opt_func=functools.partial(<class 'torch.optim.adam.Adam'>, betas=(0.9, 0.99)), loss_func=FlattenedLoss of CrossEntropyLoss(), metrics=[<function accuracy at 0x7f9af5fdfb70>], true_wd=True, bn_wd=True, wd=0.01, train_bn=True, path=PosixPath('/content/drive/My Drive/remarks'), model_dir='models', callback_fns=[functools.partial(<class 'fastai.basic_train.Recorder'>, add_time=True)], callbacks=[RNNTrainer\n",
       "learn: LanguageLearner(data=TextLMDataBunch;\n",
       "\n",
       "Train: LabelList (661 items)\n",
       "x: LMTextList\n",
       "xxbos xxmaj let 's hope that the xxunk xxunk are n't when she 's xxunk or something , or just xxunk she 's going to xxunk . xxmaj that would really be bad . xxmaj xxunk knows what we would get then .,xxbos xxmaj did you hear the one about the woman who is xxunk on the xxunk by a xxunk , xxunk xxunk , xxunk xxunk , and xxunk to xxunk ? xxmaj when she xxunk xxunk xxunk and xxunk to speak , her xxunk xxunk over to hear her xxunk xxunk and to xxunk xxunk , ' xxmaj where is that xxunk xxunk ?,xxbos i think she 's hot xxrep 4 . xxmaj she 's xxunk , she 's short . xxmaj she 's got a xxunk little body on her . xxmaj xxunk - xxunk , i give her about a xxunk . xxmaj body - xxunk , i give her about an xxunk - and - a - xxunk . xxmaj xxunk , little xxunk . i xxunk xxmaj xxunk xxmaj xxunk . \",xxbos xxmaj did n't men give you the xxunk ?,xxbos i 'm a xxunk xxunk of women . ... xxmaj feminism is what i xxunk . xxmaj feminism has xxunk women xxunk . i love women . i do n't know how this all got xxunk . i love the women 's xxunk , xxunk when xxunk behind it .\n",
       "y: LMLabelList\n",
       ",,,,\n",
       "Path: /content/drive/My Drive/remarks;\n",
       "\n",
       "Valid: LabelList (165 items)\n",
       "x: LMTextList\n",
       "xxbos xxmaj you xxunk he 's at work,xxbos xxmaj is the manager in xxunk ? i would love to talk to him,xxbos xxmaj xxunk your are not doing xxunk why do n't you get into the xxunk where you xxunk,xxbos xxmaj is that your real hair ?,xxbos xxmaj there they are\n",
       "y: LMLabelList\n",
       ",,,,\n",
       "Path: /content/drive/My Drive/remarks;\n",
       "\n",
       "Test: None, model=SequentialRNN(\n",
       "  (0): AWD_LSTM(\n",
       "    (encoder): Embedding(323, 400, padding_idx=1)\n",
       "    (encoder_dp): EmbeddingDropout(\n",
       "      (emb): Embedding(323, 400, padding_idx=1)\n",
       "    )\n",
       "    (rnns): ModuleList(\n",
       "      (0): WeightDropout(\n",
       "        (module): LSTM(400, 1150, batch_first=True)\n",
       "      )\n",
       "      (1): WeightDropout(\n",
       "        (module): LSTM(1150, 1150, batch_first=True)\n",
       "      )\n",
       "      (2): WeightDropout(\n",
       "        (module): LSTM(1150, 400, batch_first=True)\n",
       "      )\n",
       "    )\n",
       "    (input_dp): RNNDropout()\n",
       "    (hidden_dps): ModuleList(\n",
       "      (0): RNNDropout()\n",
       "      (1): RNNDropout()\n",
       "      (2): RNNDropout()\n",
       "    )\n",
       "  )\n",
       "  (1): LinearDecoder(\n",
       "    (decoder): Linear(in_features=400, out_features=323, bias=True)\n",
       "    (output_dp): RNNDropout()\n",
       "  )\n",
       "), opt_func=functools.partial(<class 'torch.optim.adam.Adam'>, betas=(0.9, 0.99)), loss_func=FlattenedLoss of CrossEntropyLoss(), metrics=[<function accuracy at 0x7f9af5fdfb70>], true_wd=True, bn_wd=True, wd=0.01, train_bn=True, path=PosixPath('/content/drive/My Drive/remarks'), model_dir='models', callback_fns=[functools.partial(<class 'fastai.basic_train.Recorder'>, add_time=True)], callbacks=[...], layer_groups=[Sequential(\n",
       "  (0): WeightDropout(\n",
       "    (module): LSTM(400, 1150, batch_first=True)\n",
       "  )\n",
       "  (1): RNNDropout()\n",
       "), Sequential(\n",
       "  (0): WeightDropout(\n",
       "    (module): LSTM(1150, 1150, batch_first=True)\n",
       "  )\n",
       "  (1): RNNDropout()\n",
       "), Sequential(\n",
       "  (0): WeightDropout(\n",
       "    (module): LSTM(1150, 400, batch_first=True)\n",
       "  )\n",
       "  (1): RNNDropout()\n",
       "), Sequential(\n",
       "  (0): Embedding(323, 400, padding_idx=1)\n",
       "  (1): EmbeddingDropout(\n",
       "    (emb): Embedding(323, 400, padding_idx=1)\n",
       "  )\n",
       "  (2): LinearDecoder(\n",
       "    (decoder): Linear(in_features=400, out_features=323, bias=True)\n",
       "    (output_dp): RNNDropout()\n",
       "  )\n",
       ")], add_time=True)\n",
       "alpha: 2.0\n",
       "beta: 1.0], layer_groups=[Sequential(\n",
       "  (0): WeightDropout(\n",
       "    (module): LSTM(400, 1150, batch_first=True)\n",
       "  )\n",
       "  (1): RNNDropout()\n",
       "), Sequential(\n",
       "  (0): WeightDropout(\n",
       "    (module): LSTM(1150, 1150, batch_first=True)\n",
       "  )\n",
       "  (1): RNNDropout()\n",
       "), Sequential(\n",
       "  (0): WeightDropout(\n",
       "    (module): LSTM(1150, 400, batch_first=True)\n",
       "  )\n",
       "  (1): RNNDropout()\n",
       "), Sequential(\n",
       "  (0): Embedding(323, 400, padding_idx=1)\n",
       "  (1): EmbeddingDropout(\n",
       "    (emb): Embedding(323, 400, padding_idx=1)\n",
       "  )\n",
       "  (2): LinearDecoder(\n",
       "    (decoder): Linear(in_features=400, out_features=323, bias=True)\n",
       "    (output_dp): RNNDropout()\n",
       "  )\n",
       ")], add_time=True)"
      ]
     },
     "execution_count": 147,
     "metadata": {
      "tags": []
     },
     "output_type": "execute_result"
    }
   ],
   "source": [
    "learn.load('mini_train_lm')"
   ]
  },
  {
   "cell_type": "code",
   "execution_count": 0,
   "metadata": {
    "id": "3goC2QE8Y4nd",
    "colab_type": "code",
    "colab": {}
   },
   "outputs": [],
   "source": [
    "learn.unfreeze()\n"
   ]
  },
  {
   "cell_type": "code",
   "execution_count": 0,
   "metadata": {
    "id": "LpOvvQyMY4uF",
    "colab_type": "code",
    "outputId": "d280881f-a96d-4bf3-e189-142364695b1f",
    "colab": {
     "base_uri": "https://localhost:8080/",
     "height": 359.0
    }
   },
   "outputs": [
    {
     "data": {
      "text/html": [
       "<table border=\"1\" class=\"dataframe\">\n",
       "  <thead>\n",
       "    <tr style=\"text-align: left;\">\n",
       "      <th>epoch</th>\n",
       "      <th>train_loss</th>\n",
       "      <th>valid_loss</th>\n",
       "      <th>accuracy</th>\n",
       "      <th>time</th>\n",
       "    </tr>\n",
       "  </thead>\n",
       "  <tbody>\n",
       "    <tr>\n",
       "      <td>0</td>\n",
       "      <td>4.558106</td>\n",
       "      <td>4.317077</td>\n",
       "      <td>0.245312</td>\n",
       "      <td>00:00</td>\n",
       "    </tr>\n",
       "    <tr>\n",
       "      <td>1</td>\n",
       "      <td>4.602897</td>\n",
       "      <td>6.314509</td>\n",
       "      <td>0.178125</td>\n",
       "      <td>00:00</td>\n",
       "    </tr>\n",
       "    <tr>\n",
       "      <td>2</td>\n",
       "      <td>5.253189</td>\n",
       "      <td>5.568787</td>\n",
       "      <td>0.100893</td>\n",
       "      <td>00:00</td>\n",
       "    </tr>\n",
       "    <tr>\n",
       "      <td>3</td>\n",
       "      <td>5.393521</td>\n",
       "      <td>5.185917</td>\n",
       "      <td>0.189732</td>\n",
       "      <td>00:00</td>\n",
       "    </tr>\n",
       "    <tr>\n",
       "      <td>4</td>\n",
       "      <td>5.391946</td>\n",
       "      <td>4.936662</td>\n",
       "      <td>0.189732</td>\n",
       "      <td>00:00</td>\n",
       "    </tr>\n",
       "    <tr>\n",
       "      <td>5</td>\n",
       "      <td>5.351014</td>\n",
       "      <td>4.769400</td>\n",
       "      <td>0.189732</td>\n",
       "      <td>00:00</td>\n",
       "    </tr>\n",
       "    <tr>\n",
       "      <td>6</td>\n",
       "      <td>5.288966</td>\n",
       "      <td>4.622798</td>\n",
       "      <td>0.189732</td>\n",
       "      <td>00:00</td>\n",
       "    </tr>\n",
       "    <tr>\n",
       "      <td>7</td>\n",
       "      <td>5.230682</td>\n",
       "      <td>4.546028</td>\n",
       "      <td>0.189732</td>\n",
       "      <td>00:00</td>\n",
       "    </tr>\n",
       "    <tr>\n",
       "      <td>8</td>\n",
       "      <td>5.173591</td>\n",
       "      <td>4.511316</td>\n",
       "      <td>0.189732</td>\n",
       "      <td>00:00</td>\n",
       "    </tr>\n",
       "    <tr>\n",
       "      <td>9</td>\n",
       "      <td>5.126260</td>\n",
       "      <td>4.504141</td>\n",
       "      <td>0.189732</td>\n",
       "      <td>00:00</td>\n",
       "    </tr>\n",
       "  </tbody>\n",
       "</table>"
      ],
      "text/plain": [
       "<IPython.core.display.HTML object>"
      ]
     },
     "metadata": {
      "tags": []
     },
     "output_type": "execute_result"
    }
   ],
   "source": [
    "learn.fit_one_cycle(10, 1e-1, moms=(0.8,0.7))\n"
   ]
  },
  {
   "cell_type": "code",
   "execution_count": 0,
   "metadata": {
    "id": "lVwV2uI8X5aH",
    "colab_type": "code",
    "colab": {}
   },
   "outputs": [],
   "source": [
    "learn.save('fine_tuned')"
   ]
  },
  {
   "cell_type": "code",
   "execution_count": 0,
   "metadata": {
    "id": "xOHwGUA-apaZ",
    "colab_type": "code",
    "colab": {}
   },
   "outputs": [],
   "source": [
    "learn.load('fine_tuned');\n"
   ]
  },
  {
   "cell_type": "code",
   "execution_count": 0,
   "metadata": {
    "id": "GmqPdeTeapdn",
    "colab_type": "code",
    "colab": {}
   },
   "outputs": [],
   "source": [
    "TEXT = \"I think she is \"\n",
    "N_WORDS = 40\n",
    "N_SENTENCES = 2"
   ]
  },
  {
   "cell_type": "code",
   "execution_count": 0,
   "metadata": {
    "id": "ywV3o7dZaphR",
    "colab_type": "code",
    "outputId": "91434614-2bfc-4bfa-9471-b3eff614a848",
    "colab": {
     "base_uri": "https://localhost:8080/",
     "height": 51.0
    }
   },
   "outputs": [
    {
     "name": "stdout",
     "output_type": "stream",
     "text": [
      "I think she is  Think Would a Going it . , it it i that , but of was was a not so what very it the A ) and home get it you emotional .\n",
      "I think she is  The she you the the to job It does that see . 's Man Course , was ah To i that little to be in Long When the a You\n"
     ]
    }
   ],
   "source": [
    "print(\"\\n\".join(learn.predict(TEXT, N_WORDS, temperature=0.75) for _ in range(N_SENTENCES)))\n"
   ]
  },
  {
   "cell_type": "code",
   "execution_count": 0,
   "metadata": {
    "id": "1z_bzoWsapkx",
    "colab_type": "code",
    "colab": {}
   },
   "outputs": [],
   "source": [
    "learn.save_encoder('fine_tuned_enc')\n"
   ]
  },
  {
   "cell_type": "code",
   "execution_count": 0,
   "metadata": {
    "id": "Q3siOYzoW8Uv",
    "colab_type": "code",
    "colab": {}
   },
   "outputs": [],
   "source": [
    "data_clas = (TextList.from_csv(path, 'remarks_dataset.csv', cols='Comment', vocab=data_lm.vocab)\n",
    "                   .split_from_df(col='is_valid')\n",
    "                   .label_from_df(cols='Label')\n",
    "                   .databunch(bs=42))"
   ]
  },
  {
   "cell_type": "code",
   "execution_count": 0,
   "metadata": {
    "id": "P9bvS-WEW8Zk",
    "colab_type": "code",
    "outputId": "4f0113b5-ef64-4e52-e31b-8dec217f595a",
    "colab": {
     "base_uri": "https://localhost:8080/",
     "height": 289.0
    }
   },
   "outputs": [
    {
     "data": {
      "text/html": [
       "<table border=\"1\" class=\"dataframe\">\n",
       "  <thead>\n",
       "    <tr style=\"text-align: right;\">\n",
       "      <th>text</th>\n",
       "      <th>target</th>\n",
       "    </tr>\n",
       "  </thead>\n",
       "  <tbody>\n",
       "    <tr>\n",
       "      <td>xxbos i do n’t think xxmaj xxunk xxmaj xxunk ’s xxunk xxunk xxunk is a woman or a man . xxmaj she does n’t understand the xxunk of xxunk . xxmaj xxunk was a xxunk of xxunk xxunk . xxmaj she xxunk to get xxunk . xxmaj that was a xxunk - xxunk woman . xxmaj look at this woman . xxmaj everything was xxunk from her , xxunk which</td>\n",
       "      <td>positive</td>\n",
       "    </tr>\n",
       "    <tr>\n",
       "      <td>xxbos i think she 's hot xxrep 4 . xxmaj she 's xxunk , she 's short . xxmaj she 's got a xxunk little body on her . xxmaj xxunk - xxunk , i give her about a xxunk . xxmaj body - xxunk , i give her about an xxunk - and - a - xxunk . xxmaj xxunk , little xxunk . i xxunk xxmaj xxunk xxmaj</td>\n",
       "      <td>positive</td>\n",
       "    </tr>\n",
       "    <tr>\n",
       "      <td>xxbos xxmaj did you hear the one about the woman who is xxunk on the xxunk by a xxunk , xxunk xxunk , xxunk xxunk , and xxunk to xxunk ? xxmaj when she xxunk xxunk xxunk and xxunk to speak , her xxunk xxunk over to hear her xxunk xxunk and to xxunk xxunk , ' xxmaj where is that xxunk xxunk ?</td>\n",
       "      <td>positive</td>\n",
       "    </tr>\n",
       "    <tr>\n",
       "      <td>xxbos xxmaj are you trying to xxunk weight ? xxmaj what ’s the xxunk , man ? xxmaj you look xxunk . xxmaj no , no , xxunk . xxmaj we have to talk about this . xxmaj what do you want ? xxmaj are you trying to xxunk into a xxunk ?</td>\n",
       "      <td>positive</td>\n",
       "    </tr>\n",
       "    <tr>\n",
       "      <td>xxbos xxmaj oh very good yes xxunk so er xxmaj xxunk 's been very busy with his xxunk and different things and er we xxunk in you know after xxmaj xxunk cos we both xxunk and we thought we 'd have it you know and we xxunk this xxunk xxunk and</td>\n",
       "      <td>negative</td>\n",
       "    </tr>\n",
       "  </tbody>\n",
       "</table>"
      ],
      "text/plain": [
       "<IPython.core.display.HTML object>"
      ]
     },
     "metadata": {
      "tags": []
     },
     "output_type": "execute_result"
    }
   ],
   "source": [
    "data_clas.show_batch()\n"
   ]
  },
  {
   "cell_type": "code",
   "execution_count": 0,
   "metadata": {
    "id": "XKq16xyqbYfc",
    "colab_type": "code",
    "colab": {}
   },
   "outputs": [],
   "source": [
    "data_clas.save('data_clas.pkl')\n"
   ]
  },
  {
   "cell_type": "code",
   "execution_count": 0,
   "metadata": {
    "id": "V3P-Q99mbaNY",
    "colab_type": "code",
    "colab": {}
   },
   "outputs": [],
   "source": [
    "data_clas = load_data(path, 'data_clas.pkl', bs=bs)\n"
   ]
  },
  {
   "cell_type": "code",
   "execution_count": 0,
   "metadata": {
    "id": "KswqbyVrbejK",
    "colab_type": "code",
    "outputId": "105def6c-68ae-412f-be77-98557515b36b",
    "colab": {
     "base_uri": "https://localhost:8080/",
     "height": 289.0
    }
   },
   "outputs": [
    {
     "data": {
      "text/html": [
       "<table border=\"1\" class=\"dataframe\">\n",
       "  <thead>\n",
       "    <tr style=\"text-align: right;\">\n",
       "      <th>text</th>\n",
       "      <th>target</th>\n",
       "    </tr>\n",
       "  </thead>\n",
       "  <tbody>\n",
       "    <tr>\n",
       "      <td>xxbos i do n’t think xxmaj xxunk xxmaj xxunk ’s xxunk xxunk xxunk is a woman or a man . xxmaj she does n’t understand the xxunk of xxunk . xxmaj xxunk was a xxunk of xxunk xxunk . xxmaj she xxunk to get xxunk . xxmaj that was a xxunk - xxunk woman . xxmaj look at this woman . xxmaj everything was xxunk from her , xxunk which</td>\n",
       "      <td>positive</td>\n",
       "    </tr>\n",
       "    <tr>\n",
       "      <td>xxbos i think she 's hot xxrep 4 . xxmaj she 's xxunk , she 's short . xxmaj she 's got a xxunk little body on her . xxmaj xxunk - xxunk , i give her about a xxunk . xxmaj body - xxunk , i give her about an xxunk - and - a - xxunk . xxmaj xxunk , little xxunk . i xxunk xxmaj xxunk xxmaj</td>\n",
       "      <td>positive</td>\n",
       "    </tr>\n",
       "    <tr>\n",
       "      <td>xxbos xxmaj did you hear the one about the woman who is xxunk on the xxunk by a xxunk , xxunk xxunk , xxunk xxunk , and xxunk to xxunk ? xxmaj when she xxunk xxunk xxunk and xxunk to speak , her xxunk xxunk over to hear her xxunk xxunk and to xxunk xxunk , ' xxmaj where is that xxunk xxunk ?</td>\n",
       "      <td>positive</td>\n",
       "    </tr>\n",
       "    <tr>\n",
       "      <td>xxbos i 'm a xxunk xxunk of women . ... xxmaj feminism is what i xxunk . xxmaj feminism has xxunk women xxunk . i love women . i do n't know how this all got xxunk . i love the women 's xxunk , xxunk when xxunk behind it .</td>\n",
       "      <td>positive</td>\n",
       "    </tr>\n",
       "    <tr>\n",
       "      <td>xxbos xxmaj it ’s xxunk like , i just know that women make xxunk xxunk xxunk – they make very xxunk , xxunk xxunk – and then xxunk , it ’s kind of like it did n’t happen , or they did n’t mean for it to happen .</td>\n",
       "      <td>positive</td>\n",
       "    </tr>\n",
       "  </tbody>\n",
       "</table>"
      ],
      "text/plain": [
       "<IPython.core.display.HTML object>"
      ]
     },
     "metadata": {
      "tags": []
     },
     "output_type": "execute_result"
    }
   ],
   "source": [
    "data_clas.show_batch()\n"
   ]
  },
  {
   "cell_type": "code",
   "execution_count": 0,
   "metadata": {
    "id": "EBf63mbKbUH6",
    "colab_type": "code",
    "colab": {}
   },
   "outputs": [],
   "source": [
    "learn = language_model_learner(data_lm, AWD_LSTM)\n"
   ]
  },
  {
   "cell_type": "code",
   "execution_count": 0,
   "metadata": {
    "id": "cpBYfGNfbULa",
    "colab_type": "code",
    "colab": {}
   },
   "outputs": [],
   "source": [
    "learn.load_encoder('mini_train_encoder')\n"
   ]
  },
  {
   "cell_type": "code",
   "execution_count": 0,
   "metadata": {
    "id": "CCoiReEubUOv",
    "colab_type": "code",
    "outputId": "ba80b645-b5ca-4ad4-ca48-0b9a3601e5fc",
    "colab": {
     "base_uri": "https://localhost:8080/",
     "height": 34.0
    }
   },
   "outputs": [
    {
     "data": {
      "text/html": [
       ""
      ],
      "text/plain": [
       "<IPython.core.display.HTML object>"
      ]
     },
     "metadata": {
      "tags": []
     },
     "output_type": "execute_result"
    },
    {
     "name": "stdout",
     "output_type": "stream",
     "text": [
      "LR Finder is complete, type {learner_name}.recorder.plot() to see the graph.\n"
     ]
    }
   ],
   "source": [
    "learn.lr_find()\n"
   ]
  },
  {
   "cell_type": "code",
   "execution_count": 0,
   "metadata": {
    "id": "nDJGUJHmbUUf",
    "colab_type": "code",
    "outputId": "338b82fc-59bf-4466-f84a-b2aff8050faf",
    "colab": {
     "base_uri": "https://localhost:8080/",
     "height": 283.0
    }
   },
   "outputs": [
    {
     "data": {
      "image/png": "[encoded data removed]",
      "text/plain": [
       "<Figure size 432x288 with 1 Axes>"
      ]
     },
     "metadata": {
      "tags": []
     },
     "output_type": "display_data"
    }
   ],
   "source": [
    "learn.recorder.plot()\n"
   ]
  },
  {
   "cell_type": "code",
   "execution_count": 0,
   "metadata": {
    "id": "CVY9vrQubUSB",
    "colab_type": "code",
    "outputId": "e46578e0-31f3-4acb-e2cf-595e0082a4ab",
    "colab": {
     "base_uri": "https://localhost:8080/",
     "height": 979.0
    }
   },
   "outputs": [
    {
     "data": {
      "text/html": [
       "<table border=\"1\" class=\"dataframe\">\n",
       "  <thead>\n",
       "    <tr style=\"text-align: left;\">\n",
       "      <th>epoch</th>\n",
       "      <th>train_loss</th>\n",
       "      <th>valid_loss</th>\n",
       "      <th>accuracy</th>\n",
       "      <th>time</th>\n",
       "    </tr>\n",
       "  </thead>\n",
       "  <tbody>\n",
       "    <tr>\n",
       "      <td>0</td>\n",
       "      <td>4.956643</td>\n",
       "      <td>4.586814</td>\n",
       "      <td>0.266741</td>\n",
       "      <td>00:00</td>\n",
       "    </tr>\n",
       "    <tr>\n",
       "      <td>1</td>\n",
       "      <td>4.899716</td>\n",
       "      <td>4.388695</td>\n",
       "      <td>0.264732</td>\n",
       "      <td>00:00</td>\n",
       "    </tr>\n",
       "    <tr>\n",
       "      <td>2</td>\n",
       "      <td>4.822056</td>\n",
       "      <td>4.131716</td>\n",
       "      <td>0.256250</td>\n",
       "      <td>00:00</td>\n",
       "    </tr>\n",
       "    <tr>\n",
       "      <td>3</td>\n",
       "      <td>4.693702</td>\n",
       "      <td>3.747835</td>\n",
       "      <td>0.268304</td>\n",
       "      <td>00:00</td>\n",
       "    </tr>\n",
       "    <tr>\n",
       "      <td>4</td>\n",
       "      <td>4.567767</td>\n",
       "      <td>3.400092</td>\n",
       "      <td>0.293527</td>\n",
       "      <td>00:00</td>\n",
       "    </tr>\n",
       "    <tr>\n",
       "      <td>5</td>\n",
       "      <td>4.384979</td>\n",
       "      <td>3.323073</td>\n",
       "      <td>0.292857</td>\n",
       "      <td>00:00</td>\n",
       "    </tr>\n",
       "    <tr>\n",
       "      <td>6</td>\n",
       "      <td>4.229980</td>\n",
       "      <td>3.211028</td>\n",
       "      <td>0.302009</td>\n",
       "      <td>00:00</td>\n",
       "    </tr>\n",
       "    <tr>\n",
       "      <td>7</td>\n",
       "      <td>4.083432</td>\n",
       "      <td>3.219554</td>\n",
       "      <td>0.299554</td>\n",
       "      <td>00:00</td>\n",
       "    </tr>\n",
       "    <tr>\n",
       "      <td>8</td>\n",
       "      <td>3.968491</td>\n",
       "      <td>3.284251</td>\n",
       "      <td>0.326562</td>\n",
       "      <td>00:00</td>\n",
       "    </tr>\n",
       "    <tr>\n",
       "      <td>9</td>\n",
       "      <td>3.858213</td>\n",
       "      <td>3.250147</td>\n",
       "      <td>0.315402</td>\n",
       "      <td>00:00</td>\n",
       "    </tr>\n",
       "    <tr>\n",
       "      <td>10</td>\n",
       "      <td>3.761098</td>\n",
       "      <td>3.253320</td>\n",
       "      <td>0.316741</td>\n",
       "      <td>00:00</td>\n",
       "    </tr>\n",
       "    <tr>\n",
       "      <td>11</td>\n",
       "      <td>3.675883</td>\n",
       "      <td>3.261922</td>\n",
       "      <td>0.322768</td>\n",
       "      <td>00:00</td>\n",
       "    </tr>\n",
       "    <tr>\n",
       "      <td>12</td>\n",
       "      <td>3.608052</td>\n",
       "      <td>3.270466</td>\n",
       "      <td>0.312723</td>\n",
       "      <td>00:00</td>\n",
       "    </tr>\n",
       "    <tr>\n",
       "      <td>13</td>\n",
       "      <td>3.539275</td>\n",
       "      <td>3.261724</td>\n",
       "      <td>0.316071</td>\n",
       "      <td>00:00</td>\n",
       "    </tr>\n",
       "    <tr>\n",
       "      <td>14</td>\n",
       "      <td>3.486973</td>\n",
       "      <td>3.287251</td>\n",
       "      <td>0.316295</td>\n",
       "      <td>00:00</td>\n",
       "    </tr>\n",
       "    <tr>\n",
       "      <td>15</td>\n",
       "      <td>3.431271</td>\n",
       "      <td>3.250478</td>\n",
       "      <td>0.323884</td>\n",
       "      <td>00:00</td>\n",
       "    </tr>\n",
       "    <tr>\n",
       "      <td>16</td>\n",
       "      <td>3.377954</td>\n",
       "      <td>3.263711</td>\n",
       "      <td>0.321875</td>\n",
       "      <td>00:00</td>\n",
       "    </tr>\n",
       "    <tr>\n",
       "      <td>17</td>\n",
       "      <td>3.331040</td>\n",
       "      <td>3.276462</td>\n",
       "      <td>0.319196</td>\n",
       "      <td>00:00</td>\n",
       "    </tr>\n",
       "    <tr>\n",
       "      <td>18</td>\n",
       "      <td>3.284646</td>\n",
       "      <td>3.256654</td>\n",
       "      <td>0.326116</td>\n",
       "      <td>00:00</td>\n",
       "    </tr>\n",
       "    <tr>\n",
       "      <td>19</td>\n",
       "      <td>3.237654</td>\n",
       "      <td>3.255118</td>\n",
       "      <td>0.325893</td>\n",
       "      <td>00:00</td>\n",
       "    </tr>\n",
       "    <tr>\n",
       "      <td>20</td>\n",
       "      <td>3.195228</td>\n",
       "      <td>3.256000</td>\n",
       "      <td>0.328571</td>\n",
       "      <td>00:00</td>\n",
       "    </tr>\n",
       "    <tr>\n",
       "      <td>21</td>\n",
       "      <td>3.157238</td>\n",
       "      <td>3.259467</td>\n",
       "      <td>0.327009</td>\n",
       "      <td>00:00</td>\n",
       "    </tr>\n",
       "    <tr>\n",
       "      <td>22</td>\n",
       "      <td>3.119498</td>\n",
       "      <td>3.273749</td>\n",
       "      <td>0.321652</td>\n",
       "      <td>00:00</td>\n",
       "    </tr>\n",
       "    <tr>\n",
       "      <td>23</td>\n",
       "      <td>3.086831</td>\n",
       "      <td>3.295983</td>\n",
       "      <td>0.322321</td>\n",
       "      <td>00:00</td>\n",
       "    </tr>\n",
       "    <tr>\n",
       "      <td>24</td>\n",
       "      <td>3.052088</td>\n",
       "      <td>3.280794</td>\n",
       "      <td>0.322321</td>\n",
       "      <td>00:00</td>\n",
       "    </tr>\n",
       "    <tr>\n",
       "      <td>25</td>\n",
       "      <td>3.019288</td>\n",
       "      <td>3.276882</td>\n",
       "      <td>0.323438</td>\n",
       "      <td>00:00</td>\n",
       "    </tr>\n",
       "    <tr>\n",
       "      <td>26</td>\n",
       "      <td>2.988106</td>\n",
       "      <td>3.273382</td>\n",
       "      <td>0.328348</td>\n",
       "      <td>00:00</td>\n",
       "    </tr>\n",
       "    <tr>\n",
       "      <td>27</td>\n",
       "      <td>2.967005</td>\n",
       "      <td>3.260163</td>\n",
       "      <td>0.325000</td>\n",
       "      <td>00:00</td>\n",
       "    </tr>\n",
       "    <tr>\n",
       "      <td>28</td>\n",
       "      <td>2.940939</td>\n",
       "      <td>3.263449</td>\n",
       "      <td>0.327902</td>\n",
       "      <td>00:00</td>\n",
       "    </tr>\n",
       "    <tr>\n",
       "      <td>29</td>\n",
       "      <td>2.916664</td>\n",
       "      <td>3.268258</td>\n",
       "      <td>0.324330</td>\n",
       "      <td>00:00</td>\n",
       "    </tr>\n",
       "  </tbody>\n",
       "</table>"
      ],
      "text/plain": [
       "<IPython.core.display.HTML object>"
      ]
     },
     "metadata": {
      "tags": []
     },
     "output_type": "execute_result"
    }
   ],
   "source": [
    "learn.fit_one_cycle(30, 1e-1, moms=(0.8,0.7))\n"
   ]
  },
  {
   "cell_type": "code",
   "execution_count": 0,
   "metadata": {
    "id": "hgdSIHkQb4Rj",
    "colab_type": "code",
    "colab": {}
   },
   "outputs": [],
   "source": [
    "learn.save('first')\n"
   ]
  },
  {
   "cell_type": "code",
   "execution_count": 0,
   "metadata": {
    "id": "8XG8tCDHcPm6",
    "colab_type": "code",
    "colab": {}
   },
   "outputs": [],
   "source": [
    "learn.load('first');\n"
   ]
  },
  {
   "cell_type": "code",
   "execution_count": 0,
   "metadata": {
    "id": "YaDDQW1QcPp5",
    "colab_type": "code",
    "outputId": "bceb6b00-83d4-4149-b5dd-bf725c95aade",
    "colab": {
     "base_uri": "https://localhost:8080/",
     "height": 359.0
    }
   },
   "outputs": [
    {
     "data": {
      "text/html": [
       "<table border=\"1\" class=\"dataframe\">\n",
       "  <thead>\n",
       "    <tr style=\"text-align: left;\">\n",
       "      <th>epoch</th>\n",
       "      <th>train_loss</th>\n",
       "      <th>valid_loss</th>\n",
       "      <th>accuracy</th>\n",
       "      <th>time</th>\n",
       "    </tr>\n",
       "  </thead>\n",
       "  <tbody>\n",
       "    <tr>\n",
       "      <td>0</td>\n",
       "      <td>2.477613</td>\n",
       "      <td>3.365720</td>\n",
       "      <td>0.295982</td>\n",
       "      <td>00:00</td>\n",
       "    </tr>\n",
       "    <tr>\n",
       "      <td>1</td>\n",
       "      <td>2.515386</td>\n",
       "      <td>3.894129</td>\n",
       "      <td>0.284598</td>\n",
       "      <td>00:00</td>\n",
       "    </tr>\n",
       "    <tr>\n",
       "      <td>2</td>\n",
       "      <td>2.582261</td>\n",
       "      <td>3.613353</td>\n",
       "      <td>0.324777</td>\n",
       "      <td>00:00</td>\n",
       "    </tr>\n",
       "    <tr>\n",
       "      <td>3</td>\n",
       "      <td>2.696959</td>\n",
       "      <td>3.661725</td>\n",
       "      <td>0.291518</td>\n",
       "      <td>00:00</td>\n",
       "    </tr>\n",
       "    <tr>\n",
       "      <td>4</td>\n",
       "      <td>2.715230</td>\n",
       "      <td>3.750885</td>\n",
       "      <td>0.294866</td>\n",
       "      <td>00:00</td>\n",
       "    </tr>\n",
       "    <tr>\n",
       "      <td>5</td>\n",
       "      <td>2.726301</td>\n",
       "      <td>3.501586</td>\n",
       "      <td>0.300000</td>\n",
       "      <td>00:00</td>\n",
       "    </tr>\n",
       "    <tr>\n",
       "      <td>6</td>\n",
       "      <td>2.709745</td>\n",
       "      <td>3.422133</td>\n",
       "      <td>0.321429</td>\n",
       "      <td>00:00</td>\n",
       "    </tr>\n",
       "    <tr>\n",
       "      <td>7</td>\n",
       "      <td>2.655209</td>\n",
       "      <td>3.368598</td>\n",
       "      <td>0.317857</td>\n",
       "      <td>00:00</td>\n",
       "    </tr>\n",
       "    <tr>\n",
       "      <td>8</td>\n",
       "      <td>2.609587</td>\n",
       "      <td>3.385077</td>\n",
       "      <td>0.314286</td>\n",
       "      <td>00:00</td>\n",
       "    </tr>\n",
       "    <tr>\n",
       "      <td>9</td>\n",
       "      <td>2.585428</td>\n",
       "      <td>3.384697</td>\n",
       "      <td>0.315848</td>\n",
       "      <td>00:00</td>\n",
       "    </tr>\n",
       "  </tbody>\n",
       "</table>"
      ],
      "text/plain": [
       "<IPython.core.display.HTML object>"
      ]
     },
     "metadata": {
      "tags": []
     },
     "output_type": "execute_result"
    }
   ],
   "source": [
    "learn.freeze_to(-2)\n",
    "learn.fit_one_cycle(10, slice(1e-1/(2.6**4),1e-1), moms=(0.8,0.7))"
   ]
  },
  {
   "cell_type": "code",
   "execution_count": 0,
   "metadata": {
    "id": "fzxGhhtgcPvw",
    "colab_type": "code",
    "colab": {}
   },
   "outputs": [],
   "source": [
    "learn.save('second')\n"
   ]
  },
  {
   "cell_type": "code",
   "execution_count": 0,
   "metadata": {
    "id": "nro98yLkcPyz",
    "colab_type": "code",
    "colab": {}
   },
   "outputs": [],
   "source": [
    "learn.load('second');"
   ]
  },
  {
   "cell_type": "code",
   "execution_count": 0,
   "metadata": {
    "id": "NRNw94p1cPtL",
    "colab_type": "code",
    "outputId": "7ed961be-9501-46f6-f84a-2d55cc3567fc",
    "colab": {
     "base_uri": "https://localhost:8080/",
     "height": 80.0
    }
   },
   "outputs": [
    {
     "data": {
      "text/html": [
       "<table border=\"1\" class=\"dataframe\">\n",
       "  <thead>\n",
       "    <tr style=\"text-align: left;\">\n",
       "      <th>epoch</th>\n",
       "      <th>train_loss</th>\n",
       "      <th>valid_loss</th>\n",
       "      <th>accuracy</th>\n",
       "      <th>time</th>\n",
       "    </tr>\n",
       "  </thead>\n",
       "  <tbody>\n",
       "    <tr>\n",
       "      <td>0</td>\n",
       "      <td>2.242574</td>\n",
       "      <td>3.924432</td>\n",
       "      <td>0.292411</td>\n",
       "      <td>00:00</td>\n",
       "    </tr>\n",
       "  </tbody>\n",
       "</table>"
      ],
      "text/plain": [
       "<IPython.core.display.HTML object>"
      ]
     },
     "metadata": {
      "tags": []
     },
     "output_type": "execute_result"
    }
   ],
   "source": [
    "learn.freeze_to(-3)\n",
    "learn.fit_one_cycle(1, slice(5e-2/(2.6**4),5e-2), moms=(0.8,0.7))"
   ]
  },
  {
   "cell_type": "code",
   "execution_count": 0,
   "metadata": {
    "id": "lNzGUnAUb4Ux",
    "colab_type": "code",
    "colab": {}
   },
   "outputs": [],
   "source": [
    "learn.save('third')\n"
   ]
  },
  {
   "cell_type": "code",
   "execution_count": 0,
   "metadata": {
    "id": "d-DelsV8b4ax",
    "colab_type": "code",
    "colab": {}
   },
   "outputs": [],
   "source": [
    "learn.load('third');"
   ]
  },
  {
   "cell_type": "code",
   "execution_count": 0,
   "metadata": {
    "id": "Qo4hAl1ab4YT",
    "colab_type": "code",
    "outputId": "0240c6b4-6b0e-4c9d-f0a7-d8bd0e8b2117",
    "colab": {
     "base_uri": "https://localhost:8080/",
     "height": 111.0
    }
   },
   "outputs": [
    {
     "data": {
      "text/html": [
       "<table border=\"1\" class=\"dataframe\">\n",
       "  <thead>\n",
       "    <tr style=\"text-align: left;\">\n",
       "      <th>epoch</th>\n",
       "      <th>train_loss</th>\n",
       "      <th>valid_loss</th>\n",
       "      <th>accuracy</th>\n",
       "      <th>time</th>\n",
       "    </tr>\n",
       "  </thead>\n",
       "  <tbody>\n",
       "    <tr>\n",
       "      <td>0</td>\n",
       "      <td>2.240909</td>\n",
       "      <td>3.686670</td>\n",
       "      <td>0.306920</td>\n",
       "      <td>00:00</td>\n",
       "    </tr>\n",
       "    <tr>\n",
       "      <td>1</td>\n",
       "      <td>2.127911</td>\n",
       "      <td>3.569429</td>\n",
       "      <td>0.313393</td>\n",
       "      <td>00:00</td>\n",
       "    </tr>\n",
       "  </tbody>\n",
       "</table>"
      ],
      "text/plain": [
       "<IPython.core.display.HTML object>"
      ]
     },
     "metadata": {
      "tags": []
     },
     "output_type": "execute_result"
    }
   ],
   "source": [
    "learn.unfreeze()\n",
    "learn.fit_one_cycle(2, slice(1e-2/(2.6**4),1e-2), moms=(0.8,0.7))"
   ]
  },
  {
   "cell_type": "code",
   "execution_count": 0,
   "metadata": {
    "id": "tfNCb-U6dFjy",
    "colab_type": "code",
    "colab": {}
   },
   "outputs": [],
   "source": [
    "learn.save('fourth')\n"
   ]
  },
  {
   "cell_type": "code",
   "execution_count": 0,
   "metadata": {
    "id": "FKLPp-8YdFnJ",
    "colab_type": "code",
    "colab": {}
   },
   "outputs": [],
   "source": [
    "learn.load('fourth');"
   ]
  },
  {
   "cell_type": "code",
   "execution_count": 0,
   "metadata": {
    "id": "YsygnNY0dFqS",
    "colab_type": "code",
    "colab": {}
   },
   "outputs": [],
   "source": [
    "pred = learn.predict(\"Didn't men give you the kitchen?\")\n"
   ]
  },
  {
   "cell_type": "code",
   "execution_count": 0,
   "metadata": {
    "id": "aOTntjsqdZYv",
    "colab_type": "code",
    "outputId": "7c6a37aa-bd10-4ff9-d3f7-f31528630141",
    "colab": {
     "base_uri": "https://localhost:8080/",
     "height": 34.0
    }
   },
   "outputs": [
    {
     "data": {
      "text/plain": [
       "\"Didn't men give you the kitchen? xxbos\""
      ]
     },
     "execution_count": 205,
     "metadata": {
      "tags": []
     },
     "output_type": "execute_result"
    }
   ],
   "source": [
    "pred"
   ]
  },
  {
   "cell_type": "code",
   "execution_count": 0,
   "metadata": {
    "id": "1EQ45WOOdZcq",
    "colab_type": "code",
    "colab": {}
   },
   "outputs": [],
   "source": [
    ""
   ]
  },
  {
   "cell_type": "code",
   "execution_count": 0,
   "metadata": {
    "id": "3997KhUsdFAy",
    "colab_type": "code",
    "colab": {}
   },
   "outputs": [],
   "source": [
    "learn = text_classifier_learner(data_clas, AWD_LSTM, pretrained=False).load('mini_train_clas', with_opt=False);\n",
    "learn.export(fname = 'export_clas.pkl')\n"
   ]
  },
  {
   "cell_type": "code",
   "execution_count": 0,
   "metadata": {
    "id": "EIErYfDzXbJ4",
    "colab_type": "code",
    "colab": {}
   },
   "outputs": [],
   "source": [
    "learn = load_learner(path, fname = 'export_clas.pkl')\n"
   ]
  },
  {
   "cell_type": "code",
   "execution_count": 0,
   "metadata": {
    "id": "bV4_zZ36RvmT",
    "colab_type": "code",
    "outputId": "44b0cce2-8b79-4170-d62a-17a1057769c5",
    "colab": {
     "base_uri": "https://localhost:8080/",
     "height": 34.0
    }
   },
   "outputs": [
    {
     "data": {
      "text/plain": [
       "(Category positive, tensor(1), tensor([0.4611, 0.5389]))"
      ]
     },
     "execution_count": 227,
     "metadata": {
      "tags": []
     },
     "output_type": "execute_result"
    }
   ],
   "source": [
    "learn.predict(\"Didn't men give you the kitchen?\")\n"
   ]
  },
  {
   "cell_type": "code",
   "execution_count": 0,
   "metadata": {
    "id": "WmlHSu-Hl9sH",
    "colab_type": "code",
    "outputId": "86186475-765c-4e58-8035-d25617ca00b2",
    "colab": {
     "base_uri": "https://localhost:8080/",
     "height": 34.0
    }
   },
   "outputs": [
    {
     "data": {
      "text/plain": [
       "(Category negative, tensor(0), tensor([0.6419, 0.3581]))"
      ]
     },
     "execution_count": 228,
     "metadata": {
      "tags": []
     },
     "output_type": "execute_result"
    }
   ],
   "source": [
    "learn.predict(\"Hello \")"
   ]
  },
  {
   "cell_type": "code",
   "execution_count": 0,
   "metadata": {
    "id": "ugnlBWBimI5O",
    "colab_type": "code",
    "outputId": "71e6ba5c-1e53-4ecd-f9f3-44757b441f11",
    "colab": {
     "base_uri": "https://localhost:8080/",
     "height": 34.0
    }
   },
   "outputs": [
    {
     "data": {
      "text/plain": [
       "(Category positive, tensor(1), tensor([0.4277, 0.5723]))"
      ]
     },
     "execution_count": 229,
     "metadata": {
      "tags": []
     },
     "output_type": "execute_result"
    }
   ],
   "source": [
    "learn.predict(\"You should get a maid outfit for while you're dusitng.\")\n"
   ]
  },
  {
   "cell_type": "code",
   "execution_count": 0,
   "metadata": {
    "id": "9mQc6BQqmMOJ",
    "colab_type": "code",
    "outputId": "962d842d-6336-4a27-9a3e-00854c5484cc",
    "colab": {
     "base_uri": "https://localhost:8080/",
     "height": 34.0
    }
   },
   "outputs": [
    {
     "data": {
      "text/plain": [
       "(Category positive, tensor(1), tensor([0.4478, 0.5522]))"
      ]
     },
     "execution_count": 230,
     "metadata": {
      "tags": []
     },
     "output_type": "execute_result"
    }
   ],
   "source": [
    "learn.predict(\"Can I speak to a male customer agent because  I work better with other men\")"
   ]
  },
  {
   "cell_type": "code",
   "execution_count": 0,
   "metadata": {
    "id": "nxjYY9PlmaXJ",
    "colab_type": "code",
    "outputId": "5e84a6ca-1306-4898-bb6e-171d9d8a77a3",
    "colab": {
     "base_uri": "https://localhost:8080/",
     "height": 34.0
    }
   },
   "outputs": [
    {
     "data": {
      "text/plain": [
       "(Category negative, tensor(0), tensor([0.5805, 0.4195]))"
      ]
     },
     "execution_count": 231,
     "metadata": {
      "tags": []
     },
     "output_type": "execute_result"
    }
   ],
   "source": [
    "learn.predict(\"You need to smile more lady\")"
   ]
  },
  {
   "cell_type": "code",
   "execution_count": 0,
   "metadata": {
    "id": "J48yYx0ymkKu",
    "colab_type": "code",
    "outputId": "7b3c33e5-64c8-4dff-d55a-c0785e60f5fe",
    "colab": {
     "base_uri": "https://localhost:8080/",
     "height": 34.0
    }
   },
   "outputs": [
    {
     "data": {
      "text/plain": [
       "(Category positive, tensor(1), tensor([0.4135, 0.5865]))"
      ]
     },
     "execution_count": 232,
     "metadata": {
      "tags": []
     },
     "output_type": "execute_result"
    }
   ],
   "source": [
    "learn.predict(\"Hey, Put on a little makeup and a skirt. Otherwise Skip the meeting.\")"
   ]
  },
  {
   "cell_type": "code",
   "execution_count": 0,
   "metadata": {
    "id": "z4wZ7wrMp6_r",
    "colab_type": "code",
    "outputId": "32ba59f4-9451-47df-f971-07ab54543ff3",
    "colab": {
     "base_uri": "https://localhost:8080/",
     "height": 34.0
    }
   },
   "outputs": [
    {
     "data": {
      "text/plain": [
       "(Category positive, tensor(1), tensor([0.3875, 0.6125]))"
      ]
     },
     "execution_count": 237,
     "metadata": {
      "tags": []
     },
     "output_type": "execute_result"
    }
   ],
   "source": [
    "learn.predict(\"We're going to put a pole in the lunch room, so you girls can work out on your breaks.\")"
   ]
  },
  {
   "cell_type": "code",
   "execution_count": 0,
   "metadata": {
    "id": "tGuoxyajp7JO",
    "colab_type": "code",
    "outputId": "3bc24336-e608-404e-b133-5f882d674481",
    "colab": {
     "base_uri": "https://localhost:8080/",
     "height": 34.0
    }
   },
   "outputs": [
    {
     "data": {
      "text/plain": [
       "(Category negative, tensor(0), tensor([0.5610, 0.4390]))"
      ]
     },
     "execution_count": 234,
     "metadata": {
      "tags": []
     },
     "output_type": "execute_result"
    }
   ],
   "source": [
    "learn.predict(\"Let's get it rolling\")"
   ]
  },
  {
   "cell_type": "code",
   "execution_count": 0,
   "metadata": {
    "id": "tgJvzXyrqJ_Y",
    "colab_type": "code",
    "outputId": "f14a831e-0298-4662-bad6-ab41cbf12e36",
    "colab": {
     "base_uri": "https://localhost:8080/",
     "height": 34.0
    }
   },
   "outputs": [
    {
     "data": {
      "text/plain": [
       "(Category negative, tensor(0), tensor([0.5319, 0.4681]))"
      ]
     },
     "execution_count": 235,
     "metadata": {
      "tags": []
     },
     "output_type": "execute_result"
    }
   ],
   "source": [
    "learn.predict(\"We are looking at production relaease this weekend\")"
   ]
  },
  {
   "cell_type": "code",
   "execution_count": 0,
   "metadata": {
    "id": "S6YeoL0GqUX_",
    "colab_type": "code",
    "outputId": "b193e96e-bc0e-4e5c-8259-fa14bb21af7f",
    "colab": {
     "base_uri": "https://localhost:8080/",
     "height": 34.0
    }
   },
   "outputs": [
    {
     "data": {
      "text/plain": [
       "(Category positive, tensor(1), tensor([0.4146, 0.5854]))"
      ]
     },
     "execution_count": 238,
     "metadata": {
      "tags": []
     },
     "output_type": "execute_result"
    }
   ],
   "source": [
    "learn.predict(\"Nature intended women to be our slaves. They are our property.\")"
   ]
  },
  {
   "cell_type": "code",
   "execution_count": 0,
   "metadata": {
    "id": "J4tCgrekq8Ll",
    "colab_type": "code",
    "outputId": "0cd271a9-539a-4154-8a84-009cf0bee309",
    "colab": {
     "base_uri": "https://localhost:8080/",
     "height": 34.0
    }
   },
   "outputs": [
    {
     "data": {
      "text/plain": [
       "(Category positive, tensor(1), tensor([0.4763, 0.5237]))"
      ]
     },
     "execution_count": 239,
     "metadata": {
      "tags": []
     },
     "output_type": "execute_result"
    }
   ],
   "source": [
    "learn.predict(\"One hundred women are not worth a single testicle\")"
   ]
  },
  {
   "cell_type": "code",
   "execution_count": 0,
   "metadata": {
    "id": "jwOtE7zZq_hM",
    "colab_type": "code",
    "outputId": "dfa1dfb4-58ba-4401-99d4-e207392c06d9",
    "colab": {
     "base_uri": "https://localhost:8080/",
     "height": 34.0
    }
   },
   "outputs": [
    {
     "data": {
      "text/plain": [
       "(Category negative, tensor(0), tensor([0.5158, 0.4842]))"
      ]
     },
     "execution_count": 241,
     "metadata": {
      "tags": []
     },
     "output_type": "execute_result"
    }
   ],
   "source": [
    "learn.predict(\" what an awesome weekend?\")"
   ]
  },
  {
   "cell_type": "code",
   "execution_count": 0,
   "metadata": {
    "id": "eFip7wRmrOhW",
    "colab_type": "code",
    "outputId": "ebcc321c-fb55-40cc-f83a-f76d5de67113",
    "colab": {
     "base_uri": "https://localhost:8080/",
     "height": 34.0
    }
   },
   "outputs": [
    {
     "data": {
      "text/plain": [
       "(Category positive, tensor(1), tensor([0.3440, 0.6560]))"
      ]
     },
     "execution_count": 242,
     "metadata": {
      "tags": []
     },
     "output_type": "execute_result"
    }
   ],
   "source": [
    "learn.predict(\"Oh yeah the weekend. People are gonna get drunk & think that I’m sexy!” – fat chicks everywhere.”\")"
   ]
  },
  {
   "cell_type": "code",
   "execution_count": 0,
   "metadata": {
    "id": "sVx-jEYErRhT",
    "colab_type": "code",
    "outputId": "36de6a18-ce0d-4511-ca92-a1e9dfbbed4c",
    "colab": {
     "base_uri": "https://localhost:8080/",
     "height": 34.0
    }
   },
   "outputs": [
    {
     "data": {
      "text/plain": [
       "(Category negative, tensor(0), tensor([0.5172, 0.4828]))"
      ]
     },
     "execution_count": 243,
     "metadata": {
      "tags": []
     },
     "output_type": "execute_result"
    }
   ],
   "source": [
    "learn.predict(\" can you finish this by saturday?\")"
   ]
  },
  {
   "cell_type": "code",
   "execution_count": 0,
   "metadata": {
    "id": "ie4i7ymqra7C",
    "colab_type": "code",
    "outputId": "2f0d8806-614b-4aae-ca0a-efef7416bf67",
    "colab": {
     "base_uri": "https://localhost:8080/",
     "height": 34.0
    }
   },
   "outputs": [
    {
     "data": {
      "text/plain": [
       "(Category positive, tensor(1), tensor([0.4802, 0.5198]))"
      ]
     },
     "execution_count": 253,
     "metadata": {
      "tags": []
     },
     "output_type": "execute_result"
    }
   ],
   "source": [
    "learn.predict(\"Women are better at everything when compared to men\")"
   ]
  },
  {
   "cell_type": "markdown",
   "metadata": {
    "id": "q-Vh81SNfMWw",
    "colab_type": "text"
   },
   "source": [
    "USED THIS TUTORIAL \n",
    "https://docs.fast.ai/tutorial.data.html#Language-modelling\n",
    "\n",
    "in addition to https://github.com/RaymondDashWu/nlp_sentiment_classifier/blob/master/OLD_S3/IMDB%20Data%20Analysis%20%2B%20NLP%20Predictions.ipynb"
   ]
  },
  {
   "cell_type": "code",
   "execution_count": 0,
   "metadata": {
    "id": "vm3ug_9Tmqy_",
    "colab_type": "code",
    "colab": {}
   },
   "outputs": [],
   "source": [
    ""
   ]
  },
  {
   "cell_type": "markdown",
   "metadata": {
    "id": "-X97rOFjmv1B",
    "colab_type": "text"
   },
   "source": [
    "FOR PREDICTIONS REFER -https://docs.fast.ai/tutorial.inference.html#Language-modelling"
   ]
  },
  {
   "cell_type": "code",
   "execution_count": 0,
   "metadata": {
    "id": "r68bQbkNppNS",
    "colab_type": "code",
    "outputId": "5e8aa58b-3a5b-467b-9ffa-d89dc6ed15c3",
    "colab": {
     "base_uri": "https://localhost:8080/",
     "height": 2587.0
    }
   },
   "outputs": [
    {
     "data": {
      "text/plain": [
       "RNNLearner(data=TextClasDataBunch;\n",
       "\n",
       "Train: LabelList (0 items)\n",
       "x: TextList\n",
       "\n",
       "y: CategoryList\n",
       "\n",
       "Path: /content/drive/My Drive/remarks;\n",
       "\n",
       "Valid: LabelList (0 items)\n",
       "x: TextList\n",
       "\n",
       "y: CategoryList\n",
       "\n",
       "Path: /content/drive/My Drive/remarks;\n",
       "\n",
       "Test: None, model=SequentialRNN(\n",
       "  (0): MultiBatchEncoder(\n",
       "    (module): AWD_LSTM(\n",
       "      (encoder): Embedding(323, 400, padding_idx=1)\n",
       "      (encoder_dp): EmbeddingDropout(\n",
       "        (emb): Embedding(323, 400, padding_idx=1)\n",
       "      )\n",
       "      (rnns): ModuleList(\n",
       "        (0): WeightDropout(\n",
       "          (module): LSTM(400, 1150, batch_first=True)\n",
       "        )\n",
       "        (1): WeightDropout(\n",
       "          (module): LSTM(1150, 1150, batch_first=True)\n",
       "        )\n",
       "        (2): WeightDropout(\n",
       "          (module): LSTM(1150, 400, batch_first=True)\n",
       "        )\n",
       "      )\n",
       "      (input_dp): RNNDropout()\n",
       "      (hidden_dps): ModuleList(\n",
       "        (0): RNNDropout()\n",
       "        (1): RNNDropout()\n",
       "        (2): RNNDropout()\n",
       "      )\n",
       "    )\n",
       "  )\n",
       "  (1): PoolingLinearClassifier(\n",
       "    (layers): Sequential(\n",
       "      (0): BatchNorm1d(1200, eps=1e-05, momentum=0.1, affine=True, track_running_stats=True)\n",
       "      (1): Dropout(p=0.4)\n",
       "      (2): Linear(in_features=1200, out_features=50, bias=True)\n",
       "      (3): ReLU(inplace)\n",
       "      (4): BatchNorm1d(50, eps=1e-05, momentum=0.1, affine=True, track_running_stats=True)\n",
       "      (5): Dropout(p=0.1)\n",
       "      (6): Linear(in_features=50, out_features=2, bias=True)\n",
       "    )\n",
       "  )\n",
       "), opt_func=functools.partial(<class 'torch.optim.adam.Adam'>, betas=(0.9, 0.99)), loss_func=FlattenedLoss of CrossEntropyLoss(), metrics=[<function accuracy at 0x7f9af5fdfb70>], true_wd=True, bn_wd=True, wd=0.01, train_bn=True, path=PosixPath('/content/drive/My Drive/remarks'), model_dir='models', callback_fns=[functools.partial(<class 'fastai.basic_train.Recorder'>, add_time=True)], callbacks=[RNNTrainer\n",
       "learn: RNNLearner(data=TextClasDataBunch;\n",
       "\n",
       "Train: LabelList (0 items)\n",
       "x: TextList\n",
       "\n",
       "y: CategoryList\n",
       "\n",
       "Path: /content/drive/My Drive/remarks;\n",
       "\n",
       "Valid: LabelList (0 items)\n",
       "x: TextList\n",
       "\n",
       "y: CategoryList\n",
       "\n",
       "Path: /content/drive/My Drive/remarks;\n",
       "\n",
       "Test: None, model=SequentialRNN(\n",
       "  (0): MultiBatchEncoder(\n",
       "    (module): AWD_LSTM(\n",
       "      (encoder): Embedding(323, 400, padding_idx=1)\n",
       "      (encoder_dp): EmbeddingDropout(\n",
       "        (emb): Embedding(323, 400, padding_idx=1)\n",
       "      )\n",
       "      (rnns): ModuleList(\n",
       "        (0): WeightDropout(\n",
       "          (module): LSTM(400, 1150, batch_first=True)\n",
       "        )\n",
       "        (1): WeightDropout(\n",
       "          (module): LSTM(1150, 1150, batch_first=True)\n",
       "        )\n",
       "        (2): WeightDropout(\n",
       "          (module): LSTM(1150, 400, batch_first=True)\n",
       "        )\n",
       "      )\n",
       "      (input_dp): RNNDropout()\n",
       "      (hidden_dps): ModuleList(\n",
       "        (0): RNNDropout()\n",
       "        (1): RNNDropout()\n",
       "        (2): RNNDropout()\n",
       "      )\n",
       "    )\n",
       "  )\n",
       "  (1): PoolingLinearClassifier(\n",
       "    (layers): Sequential(\n",
       "      (0): BatchNorm1d(1200, eps=1e-05, momentum=0.1, affine=True, track_running_stats=True)\n",
       "      (1): Dropout(p=0.4)\n",
       "      (2): Linear(in_features=1200, out_features=50, bias=True)\n",
       "      (3): ReLU(inplace)\n",
       "      (4): BatchNorm1d(50, eps=1e-05, momentum=0.1, affine=True, track_running_stats=True)\n",
       "      (5): Dropout(p=0.1)\n",
       "      (6): Linear(in_features=50, out_features=2, bias=True)\n",
       "    )\n",
       "  )\n",
       "), opt_func=functools.partial(<class 'torch.optim.adam.Adam'>, betas=(0.9, 0.99)), loss_func=FlattenedLoss of CrossEntropyLoss(), metrics=[<function accuracy at 0x7f9af5fdfb70>], true_wd=True, bn_wd=True, wd=0.01, train_bn=True, path=PosixPath('/content/drive/My Drive/remarks'), model_dir='models', callback_fns=[functools.partial(<class 'fastai.basic_train.Recorder'>, add_time=True)], callbacks=[...], layer_groups=[Sequential(\n",
       "  (0): Embedding(323, 400, padding_idx=1)\n",
       "  (1): Embedding(323, 400, padding_idx=1)\n",
       "  (2): LSTM(400, 1150, batch_first=True)\n",
       "  (3): ParameterModule()\n",
       "  (4): LSTM(1150, 1150, batch_first=True)\n",
       "  (5): ParameterModule()\n",
       "  (6): LSTM(1150, 400, batch_first=True)\n",
       "  (7): ParameterModule()\n",
       "  (8): RNNDropout()\n",
       "  (9): RNNDropout()\n",
       "  (10): RNNDropout()\n",
       "  (11): RNNDropout()\n",
       "  (12): BatchNorm1d(1200, eps=1e-05, momentum=0.1, affine=True, track_running_stats=True)\n",
       "  (13): Dropout(p=0.4)\n",
       "  (14): Linear(in_features=1200, out_features=50, bias=True)\n",
       "  (15): ReLU(inplace)\n",
       "  (16): BatchNorm1d(50, eps=1e-05, momentum=0.1, affine=True, track_running_stats=True)\n",
       "  (17): Dropout(p=0.1)\n",
       "  (18): Linear(in_features=50, out_features=2, bias=True)\n",
       ")], add_time=True)\n",
       "alpha: 2.0\n",
       "beta: 1.0], layer_groups=[Sequential(\n",
       "  (0): Embedding(323, 400, padding_idx=1)\n",
       "  (1): Embedding(323, 400, padding_idx=1)\n",
       "  (2): LSTM(400, 1150, batch_first=True)\n",
       "  (3): ParameterModule()\n",
       "  (4): LSTM(1150, 1150, batch_first=True)\n",
       "  (5): ParameterModule()\n",
       "  (6): LSTM(1150, 400, batch_first=True)\n",
       "  (7): ParameterModule()\n",
       "  (8): RNNDropout()\n",
       "  (9): RNNDropout()\n",
       "  (10): RNNDropout()\n",
       "  (11): RNNDropout()\n",
       "  (12): BatchNorm1d(1200, eps=1e-05, momentum=0.1, affine=True, track_running_stats=True)\n",
       "  (13): Dropout(p=0.4)\n",
       "  (14): Linear(in_features=1200, out_features=50, bias=True)\n",
       "  (15): ReLU(inplace)\n",
       "  (16): BatchNorm1d(50, eps=1e-05, momentum=0.1, affine=True, track_running_stats=True)\n",
       "  (17): Dropout(p=0.1)\n",
       "  (18): Linear(in_features=50, out_features=2, bias=True)\n",
       ")], add_time=True)"
      ]
     },
     "execution_count": 224,
     "metadata": {
      "tags": []
     },
     "output_type": "execute_result"
    }
   ],
   "source": [
    "learn.load('mini_train_clas')"
   ]
  },
  {
   "cell_type": "code",
   "execution_count": 0,
   "metadata": {
    "id": "nETpDYgsppX-",
    "colab_type": "code",
    "colab": {}
   },
   "outputs": [],
   "source": [
    ""
   ]
  },
  {
   "cell_type": "code",
   "execution_count": 0,
   "metadata": {
    "id": "A6AFaHpkppbS",
    "colab_type": "code",
    "colab": {}
   },
   "outputs": [],
   "source": [
    ""
   ]
  },
  {
   "cell_type": "code",
   "execution_count": 0,
   "metadata": {
    "id": "B5romT5Cppei",
    "colab_type": "code",
    "colab": {}
   },
   "outputs": [],
   "source": [
    ""
   ]
  }
 ],
 "metadata": {
  "colab": {
   "name": "sexist remark_classifier.ipynb",
   "version": "0.3.2",
   "provenance": [],
   "collapsed_sections": []
  },
  "kernelspec": {
   "name": "python3",
   "display_name": "Python 3"
  },
  "accelerator": "GPU"
 },
 "nbformat": 4,
 "nbformat_minor": 0
}
